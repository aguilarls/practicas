{
 "cells": [
  {
   "cell_type": "markdown",
   "id": "497bc501-70a0-4cdb-981d-3215e3fbd672",
   "metadata": {},
   "source": [
    "# Preeliminares\n",
    "En esta practica desarrollaremos una red neuronal, la cual aprendera a reconocer cuando un jugador tiene la victoria en el juego: tic-tac-toe. Este juego se conoce tambien como tres en ralla. El juego se compone de un tablero de 3 x 3. En esta configuracion juegan dos jugadores denotados por el __circulo__ y __equix__. Durante cada turno, un jugador pondra su ficha dentro de cualquier celda disponible en el tablero. El objetivo consiste en obtener un total de __3 celdas__ con la ficha de un mismo jugador de manera continua. Por ejemplo, en el siguiente juego, el jugador __circulo__ ha ganado completando __3 en raya__.\n",
    "<div align=\"center\">\n",
    "<img src=\"https://upload.wikimedia.org/wikipedia/commons/3/32/Tic_tac_toe.svg\" width=\"250\"/>\n",
    "</div>"
   ]
  },
  {
   "cell_type": "markdown",
   "id": "d6fc0023-d030-45ce-b5a8-2af1a04208d7",
   "metadata": {},
   "source": [
    "# Librerias\n",
    "Antes de proceder, necesitamos instalar las librerias necesarias. En nuestro caso, trabajaremos con la Libreria __[scikit-learn](https://scikit-learn.org/stable/index.html)__ en su version __0.24.2__. Esta libreria ofrece una amplia gama de algoritmos y/o tecnicas aplicadas no solo a la inteligencia artificial, sino tambien a otras areas como ciencia de datos. Para poder instalar nuestra libreria en la maquina virtual procederemos a ejecutar el siguiente comando: `!pip install -U scikit-learn==0.24.2`. La ejecucion puede tardar unos momentos."
   ]
  },
  {
   "cell_type": "code",
   "execution_count": null,
   "id": "5a05ab11-7c5d-41b4-b9a1-96f46b286db7",
   "metadata": {},
   "outputs": [],
   "source": [
    "# Instalacion de libreria\n",
    "!pip install -U scikit-learn==0.24.2"
   ]
  },
  {
   "cell_type": "markdown",
   "id": "e4fb85fb-4aca-4af2-af63-6de4664527d5",
   "metadata": {},
   "source": [
    "# Aplicacion: tic-tac-toe\n",
    "## Descripcion del problema\n",
    "[Tic-tac-toe](https://en.wikipedia.org/wiki/Tic-tac-toe) también conocido como tres en raya en espaniol. Es un juego que involucra la participación de dos jugadores sobre una malla compuesta por 3 filas y 3 columnas. Durante el juego cada jugador marca cada celda con un símbolo, generalmente una cruz o circulo. El objetivo consiste en marcar tres celdas consecutivas resultando en la victoria del jugador. En esta aplicación vamos a desarrollar una red neuronal que aprenda a reconocer si el ganador del juego es el jugador con cruz o circulo."
   ]
  },
  {
   "cell_type": "code",
   "execution_count": 1,
   "id": "1928faaa-a3bc-4a80-b29c-cbe26af949d5",
   "metadata": {},
   "outputs": [],
   "source": [
    "# Importar librerias\n",
    "import sklearn\n",
    "from sklearn.datasets import fetch_openml\n",
    "# division de datos\n",
    "from sklearn.model_selection import train_test_split\n",
    "# pre-procesamiento\n",
    "from sklearn.preprocessing import StandardScaler\n",
    "# red neuronal\n",
    "from sklearn.neural_network import MLPClassifier"
   ]
  },
  {
   "cell_type": "code",
   "execution_count": 2,
   "id": "c168440e-a1fa-49b3-87b7-a44ce96a668c",
   "metadata": {},
   "outputs": [
    {
     "name": "stdout",
     "output_type": "stream",
     "text": [
      "The scikit-learn version is 0.24.2.\n"
     ]
    }
   ],
   "source": [
    "# comprobemos la version de scikit-learn\n",
    "print('The scikit-learn version is {}.'.format(sklearn.__version__))"
   ]
  },
  {
   "cell_type": "code",
   "execution_count": 3,
   "id": "c02a9164-4f8d-44ea-b660-c9a800341239",
   "metadata": {},
   "outputs": [],
   "source": [
    "# descargar data set\n",
    "raw = fetch_openml(name = 'tic-tac-toe')"
   ]
  },
  {
   "cell_type": "code",
   "execution_count": 4,
   "id": "7a2c5b32-d452-42b6-a6c5-f8ee8ed433b3",
   "metadata": {},
   "outputs": [],
   "source": [
    "# extraer datos\n",
    "dataset = raw['data'].copy()\n",
    "# extraer target y\n",
    "dataset['y'] = raw['target'].values"
   ]
  },
  {
   "cell_type": "code",
   "execution_count": 5,
   "id": "d53842c7-5000-4df8-896d-2a7644911edf",
   "metadata": {},
   "outputs": [
    {
     "data": {
      "text/html": [
       "<div>\n",
       "<style scoped>\n",
       "    .dataframe tbody tr th:only-of-type {\n",
       "        vertical-align: middle;\n",
       "    }\n",
       "\n",
       "    .dataframe tbody tr th {\n",
       "        vertical-align: top;\n",
       "    }\n",
       "\n",
       "    .dataframe thead th {\n",
       "        text-align: right;\n",
       "    }\n",
       "</style>\n",
       "<table border=\"1\" class=\"dataframe\">\n",
       "  <thead>\n",
       "    <tr style=\"text-align: right;\">\n",
       "      <th></th>\n",
       "      <th>top-left-square</th>\n",
       "      <th>top-middle-square</th>\n",
       "      <th>top-right-square</th>\n",
       "      <th>middle-left-square</th>\n",
       "      <th>middle-middle-square</th>\n",
       "      <th>middle-right-square</th>\n",
       "      <th>bottom-left-square</th>\n",
       "      <th>bottom-middle-square</th>\n",
       "      <th>bottom-right-square</th>\n",
       "      <th>y</th>\n",
       "    </tr>\n",
       "  </thead>\n",
       "  <tbody>\n",
       "    <tr>\n",
       "      <th>0</th>\n",
       "      <td>x</td>\n",
       "      <td>x</td>\n",
       "      <td>x</td>\n",
       "      <td>x</td>\n",
       "      <td>o</td>\n",
       "      <td>o</td>\n",
       "      <td>x</td>\n",
       "      <td>o</td>\n",
       "      <td>o</td>\n",
       "      <td>positive</td>\n",
       "    </tr>\n",
       "    <tr>\n",
       "      <th>1</th>\n",
       "      <td>x</td>\n",
       "      <td>x</td>\n",
       "      <td>x</td>\n",
       "      <td>x</td>\n",
       "      <td>o</td>\n",
       "      <td>o</td>\n",
       "      <td>o</td>\n",
       "      <td>x</td>\n",
       "      <td>o</td>\n",
       "      <td>positive</td>\n",
       "    </tr>\n",
       "    <tr>\n",
       "      <th>2</th>\n",
       "      <td>x</td>\n",
       "      <td>x</td>\n",
       "      <td>x</td>\n",
       "      <td>x</td>\n",
       "      <td>o</td>\n",
       "      <td>o</td>\n",
       "      <td>o</td>\n",
       "      <td>o</td>\n",
       "      <td>x</td>\n",
       "      <td>positive</td>\n",
       "    </tr>\n",
       "    <tr>\n",
       "      <th>3</th>\n",
       "      <td>x</td>\n",
       "      <td>x</td>\n",
       "      <td>x</td>\n",
       "      <td>x</td>\n",
       "      <td>o</td>\n",
       "      <td>o</td>\n",
       "      <td>o</td>\n",
       "      <td>b</td>\n",
       "      <td>b</td>\n",
       "      <td>positive</td>\n",
       "    </tr>\n",
       "    <tr>\n",
       "      <th>4</th>\n",
       "      <td>x</td>\n",
       "      <td>x</td>\n",
       "      <td>x</td>\n",
       "      <td>x</td>\n",
       "      <td>o</td>\n",
       "      <td>o</td>\n",
       "      <td>b</td>\n",
       "      <td>o</td>\n",
       "      <td>b</td>\n",
       "      <td>positive</td>\n",
       "    </tr>\n",
       "  </tbody>\n",
       "</table>\n",
       "</div>"
      ],
      "text/plain": [
       "  top-left-square top-middle-square top-right-square middle-left-square  \\\n",
       "0               x                 x                x                  x   \n",
       "1               x                 x                x                  x   \n",
       "2               x                 x                x                  x   \n",
       "3               x                 x                x                  x   \n",
       "4               x                 x                x                  x   \n",
       "\n",
       "  middle-middle-square middle-right-square bottom-left-square  \\\n",
       "0                    o                   o                  x   \n",
       "1                    o                   o                  o   \n",
       "2                    o                   o                  o   \n",
       "3                    o                   o                  o   \n",
       "4                    o                   o                  b   \n",
       "\n",
       "  bottom-middle-square bottom-right-square         y  \n",
       "0                    o                   o  positive  \n",
       "1                    x                   o  positive  \n",
       "2                    o                   x  positive  \n",
       "3                    b                   b  positive  \n",
       "4                    o                   b  positive  "
      ]
     },
     "execution_count": 5,
     "metadata": {},
     "output_type": "execute_result"
    }
   ],
   "source": [
    "# vizualizar data set\n",
    "dataset.head()"
   ]
  },
  {
   "cell_type": "code",
   "execution_count": 6,
   "id": "8a58c802-c363-4ea2-b7ad-66de6691f15f",
   "metadata": {},
   "outputs": [
    {
     "name": "stdout",
     "output_type": "stream",
     "text": [
      "(958, 10)\n"
     ]
    }
   ],
   "source": [
    "# mostrar cuantas filas y columnas existen\n",
    "print(dataset.shape)"
   ]
  },
  {
   "cell_type": "code",
   "execution_count": 7,
   "id": "30949a70-8e3a-416b-8b73-28e0a7d26c43",
   "metadata": {},
   "outputs": [
    {
     "name": "stdout",
     "output_type": "stream",
     "text": [
      "Index(['top-left-square', 'top-middle-square', 'top-right-square',\n",
      "       'middle-left-square', 'middle-middle-square', 'middle-right-square',\n",
      "       'bottom-left-square', 'bottom-middle-square', 'bottom-right-square',\n",
      "       'y'],\n",
      "      dtype='object')\n"
     ]
    }
   ],
   "source": [
    "# mostrar nombre de columnas\n",
    "print(dataset.columns)"
   ]
  },
  {
   "cell_type": "code",
   "execution_count": 8,
   "id": "47183f4c-c60d-4ee9-b8ac-c126ca55b4a0",
   "metadata": {},
   "outputs": [
    {
     "data": {
      "text/html": [
       "<div>\n",
       "<style scoped>\n",
       "    .dataframe tbody tr th:only-of-type {\n",
       "        vertical-align: middle;\n",
       "    }\n",
       "\n",
       "    .dataframe tbody tr th {\n",
       "        vertical-align: top;\n",
       "    }\n",
       "\n",
       "    .dataframe thead th {\n",
       "        text-align: right;\n",
       "    }\n",
       "</style>\n",
       "<table border=\"1\" class=\"dataframe\">\n",
       "  <thead>\n",
       "    <tr style=\"text-align: right;\">\n",
       "      <th></th>\n",
       "      <th>top-left-square</th>\n",
       "      <th>top-middle-square</th>\n",
       "      <th>top-right-square</th>\n",
       "      <th>middle-left-square</th>\n",
       "      <th>middle-middle-square</th>\n",
       "      <th>middle-right-square</th>\n",
       "      <th>bottom-left-square</th>\n",
       "      <th>bottom-middle-square</th>\n",
       "      <th>bottom-right-square</th>\n",
       "      <th>y</th>\n",
       "    </tr>\n",
       "  </thead>\n",
       "  <tbody>\n",
       "    <tr>\n",
       "      <th>0</th>\n",
       "      <td>x</td>\n",
       "      <td>x</td>\n",
       "      <td>x</td>\n",
       "      <td>x</td>\n",
       "      <td>o</td>\n",
       "      <td>o</td>\n",
       "      <td>x</td>\n",
       "      <td>o</td>\n",
       "      <td>o</td>\n",
       "      <td>positive</td>\n",
       "    </tr>\n",
       "    <tr>\n",
       "      <th>1</th>\n",
       "      <td>x</td>\n",
       "      <td>x</td>\n",
       "      <td>x</td>\n",
       "      <td>x</td>\n",
       "      <td>o</td>\n",
       "      <td>o</td>\n",
       "      <td>o</td>\n",
       "      <td>x</td>\n",
       "      <td>o</td>\n",
       "      <td>positive</td>\n",
       "    </tr>\n",
       "    <tr>\n",
       "      <th>2</th>\n",
       "      <td>x</td>\n",
       "      <td>x</td>\n",
       "      <td>x</td>\n",
       "      <td>x</td>\n",
       "      <td>o</td>\n",
       "      <td>o</td>\n",
       "      <td>o</td>\n",
       "      <td>o</td>\n",
       "      <td>x</td>\n",
       "      <td>positive</td>\n",
       "    </tr>\n",
       "    <tr>\n",
       "      <th>3</th>\n",
       "      <td>x</td>\n",
       "      <td>x</td>\n",
       "      <td>x</td>\n",
       "      <td>x</td>\n",
       "      <td>o</td>\n",
       "      <td>o</td>\n",
       "      <td>o</td>\n",
       "      <td>b</td>\n",
       "      <td>b</td>\n",
       "      <td>positive</td>\n",
       "    </tr>\n",
       "    <tr>\n",
       "      <th>4</th>\n",
       "      <td>x</td>\n",
       "      <td>x</td>\n",
       "      <td>x</td>\n",
       "      <td>x</td>\n",
       "      <td>o</td>\n",
       "      <td>o</td>\n",
       "      <td>b</td>\n",
       "      <td>o</td>\n",
       "      <td>b</td>\n",
       "      <td>positive</td>\n",
       "    </tr>\n",
       "  </tbody>\n",
       "</table>\n",
       "</div>"
      ],
      "text/plain": [
       "  top-left-square top-middle-square top-right-square middle-left-square  \\\n",
       "0               x                 x                x                  x   \n",
       "1               x                 x                x                  x   \n",
       "2               x                 x                x                  x   \n",
       "3               x                 x                x                  x   \n",
       "4               x                 x                x                  x   \n",
       "\n",
       "  middle-middle-square middle-right-square bottom-left-square  \\\n",
       "0                    o                   o                  x   \n",
       "1                    o                   o                  o   \n",
       "2                    o                   o                  o   \n",
       "3                    o                   o                  o   \n",
       "4                    o                   o                  b   \n",
       "\n",
       "  bottom-middle-square bottom-right-square         y  \n",
       "0                    o                   o  positive  \n",
       "1                    x                   o  positive  \n",
       "2                    o                   x  positive  \n",
       "3                    b                   b  positive  \n",
       "4                    o                   b  positive  "
      ]
     },
     "execution_count": 8,
     "metadata": {},
     "output_type": "execute_result"
    }
   ],
   "source": [
    "dataset.head()"
   ]
  },
  {
   "cell_type": "markdown",
   "id": "26c07581-4c2d-4122-bf90-6c218bf778c5",
   "metadata": {},
   "source": [
    "Como podemos observar las columnas estan representadas por los siguientes caracteres: __x, o, b__. Estos representan las posiciones en el tablero de juego. Asimismo, los valores de los targets __y__ estan representados por: __positivo, negativo__. Con el fin de poder usar este data set, necesitamos convertir los datos y targets en representaciones numericas. Para ello vamos a cambiar los valores de la siguiente manera:\n",
    "* __x__: 1\n",
    "* __o__: 0\n",
    "* __b__: -1\n",
    "* __positive__: 1\n",
    "* __negative__: 0\n",
    "\n",
    "A esto, se le llama __mapeo__, puesto que representamos convertirmos valores a una nueva representacion. En codigo, esto se traduciria como un diccionario:\n",
    "```python\n",
    "valores_de_mapeo = {'x': 1, 'o': 0, 'b': -1, 'positive': 1, 'negative': 0}\n",
    "```"
   ]
  },
  {
   "cell_type": "code",
   "execution_count": 9,
   "id": "59b15e43-aef0-4ba5-b3c5-9eedbc586e95",
   "metadata": {},
   "outputs": [],
   "source": [
    "# mapeo de valores\n",
    "valores_de_mapeo = {'x': 1, 'o': 0, 'b': -1, 'positive': 1, 'negative': 0}"
   ]
  },
  {
   "cell_type": "markdown",
   "id": "4085e7fb-3ebe-48bf-8efb-ae7f57bf8cef",
   "metadata": {},
   "source": [
    "Para realizar los cambios de manera permanente, vamos a aplicarlos a todas las columnas del data set, incluidas los __targets: y__. Existen diversas formas de realizar esta operacion, para este caso usaremos el siguiente codigo:\n",
    "```python\n",
    "funcion_de_mapeo = {}\n",
    "for column in dataset.columns:\n",
    "    funcion_de_mapeo[column] = valores_de_mapeo\n",
    "```"
   ]
  },
  {
   "cell_type": "code",
   "execution_count": 10,
   "id": "d71924e5-9854-4bc6-85c6-99fa2fd66dd3",
   "metadata": {},
   "outputs": [],
   "source": [
    "# transformacion\n",
    "funcion_de_mapeo = {}\n",
    "for column in dataset.columns:\n",
    "    funcion_de_mapeo[column] = valores_de_mapeo"
   ]
  },
  {
   "cell_type": "markdown",
   "id": "5989acf0-8e2e-486e-af6d-a0cf85903183",
   "metadata": {},
   "source": [
    "Ahora procederemos a realizar los cambios de manera permanente."
   ]
  },
  {
   "cell_type": "code",
   "execution_count": 11,
   "id": "bcc0154c-acfa-45ab-a000-1451b0f893f1",
   "metadata": {},
   "outputs": [],
   "source": [
    "# aplicacion de la funcion de mapeo al data set\n",
    "dataset.replace(funcion_de_mapeo, inplace = True)"
   ]
  },
  {
   "cell_type": "markdown",
   "id": "9e0b6292-9421-4e78-9188-2361ea7cddb8",
   "metadata": {},
   "source": [
    "Comprobamos los cambios"
   ]
  },
  {
   "cell_type": "code",
   "execution_count": 12,
   "id": "7154f6be-f6af-455b-a20d-d5bcb46bd4f5",
   "metadata": {},
   "outputs": [
    {
     "data": {
      "text/html": [
       "<div>\n",
       "<style scoped>\n",
       "    .dataframe tbody tr th:only-of-type {\n",
       "        vertical-align: middle;\n",
       "    }\n",
       "\n",
       "    .dataframe tbody tr th {\n",
       "        vertical-align: top;\n",
       "    }\n",
       "\n",
       "    .dataframe thead th {\n",
       "        text-align: right;\n",
       "    }\n",
       "</style>\n",
       "<table border=\"1\" class=\"dataframe\">\n",
       "  <thead>\n",
       "    <tr style=\"text-align: right;\">\n",
       "      <th></th>\n",
       "      <th>top-left-square</th>\n",
       "      <th>top-middle-square</th>\n",
       "      <th>top-right-square</th>\n",
       "      <th>middle-left-square</th>\n",
       "      <th>middle-middle-square</th>\n",
       "      <th>middle-right-square</th>\n",
       "      <th>bottom-left-square</th>\n",
       "      <th>bottom-middle-square</th>\n",
       "      <th>bottom-right-square</th>\n",
       "      <th>y</th>\n",
       "    </tr>\n",
       "  </thead>\n",
       "  <tbody>\n",
       "    <tr>\n",
       "      <th>0</th>\n",
       "      <td>1</td>\n",
       "      <td>1</td>\n",
       "      <td>1</td>\n",
       "      <td>1</td>\n",
       "      <td>0</td>\n",
       "      <td>0</td>\n",
       "      <td>1</td>\n",
       "      <td>0</td>\n",
       "      <td>0</td>\n",
       "      <td>1</td>\n",
       "    </tr>\n",
       "    <tr>\n",
       "      <th>1</th>\n",
       "      <td>1</td>\n",
       "      <td>1</td>\n",
       "      <td>1</td>\n",
       "      <td>1</td>\n",
       "      <td>0</td>\n",
       "      <td>0</td>\n",
       "      <td>0</td>\n",
       "      <td>1</td>\n",
       "      <td>0</td>\n",
       "      <td>1</td>\n",
       "    </tr>\n",
       "    <tr>\n",
       "      <th>2</th>\n",
       "      <td>1</td>\n",
       "      <td>1</td>\n",
       "      <td>1</td>\n",
       "      <td>1</td>\n",
       "      <td>0</td>\n",
       "      <td>0</td>\n",
       "      <td>0</td>\n",
       "      <td>0</td>\n",
       "      <td>1</td>\n",
       "      <td>1</td>\n",
       "    </tr>\n",
       "    <tr>\n",
       "      <th>3</th>\n",
       "      <td>1</td>\n",
       "      <td>1</td>\n",
       "      <td>1</td>\n",
       "      <td>1</td>\n",
       "      <td>0</td>\n",
       "      <td>0</td>\n",
       "      <td>0</td>\n",
       "      <td>-1</td>\n",
       "      <td>-1</td>\n",
       "      <td>1</td>\n",
       "    </tr>\n",
       "    <tr>\n",
       "      <th>4</th>\n",
       "      <td>1</td>\n",
       "      <td>1</td>\n",
       "      <td>1</td>\n",
       "      <td>1</td>\n",
       "      <td>0</td>\n",
       "      <td>0</td>\n",
       "      <td>-1</td>\n",
       "      <td>0</td>\n",
       "      <td>-1</td>\n",
       "      <td>1</td>\n",
       "    </tr>\n",
       "  </tbody>\n",
       "</table>\n",
       "</div>"
      ],
      "text/plain": [
       "   top-left-square  top-middle-square  top-right-square  middle-left-square  \\\n",
       "0                1                  1                 1                   1   \n",
       "1                1                  1                 1                   1   \n",
       "2                1                  1                 1                   1   \n",
       "3                1                  1                 1                   1   \n",
       "4                1                  1                 1                   1   \n",
       "\n",
       "   middle-middle-square  middle-right-square  bottom-left-square  \\\n",
       "0                     0                    0                   1   \n",
       "1                     0                    0                   0   \n",
       "2                     0                    0                   0   \n",
       "3                     0                    0                   0   \n",
       "4                     0                    0                  -1   \n",
       "\n",
       "   bottom-middle-square  bottom-right-square  y  \n",
       "0                     0                    0  1  \n",
       "1                     1                    0  1  \n",
       "2                     0                    1  1  \n",
       "3                    -1                   -1  1  \n",
       "4                     0                   -1  1  "
      ]
     },
     "execution_count": 12,
     "metadata": {},
     "output_type": "execute_result"
    }
   ],
   "source": [
    "dataset.head()"
   ]
  },
  {
   "cell_type": "markdown",
   "id": "55e8eacb-e203-43f3-886e-8bd9d19c43e1",
   "metadata": {},
   "source": [
    "# Division de datos\n",
    "En esta seccion dividiremos el data set en dos grupos: __Entrenamiento__ y __Test__. Usaremos los datos de entrenamiento para alimentar a nuestra red neuronal. Una vez completado el entrenamiento, procederemos a evaluar el modelo usando los datos de __Test__. Para la divicion usaremos las siguientes variables:\n",
    "* __X_train:__ Datos de entrenamiento.\n",
    "* __y_train:__ Targets de los datos de entrenamiento.\n",
    "* __X_test:__ Datos de test.\n",
    "* __y_test:__ Target de los datos de test.\n",
    "\n",
    "Reservaremos un __20% para los datos de Test__."
   ]
  },
  {
   "cell_type": "markdown",
   "id": "e01342f0-f6a2-4982-9018-db9754f0168b",
   "metadata": {},
   "source": [
    "Antes de proceder, veamos el comando: `train_test_split(dataset[columnas], dataset['y'], test_size = 0.2, random_state = 1)` en mas detalle. Esta funcion nos permitir dividir los datos, para ello espera que se proporcionen algunos parametros escenciales. El primero de ellos son los datos a dividir (sin targets), en nuestro ejemplo, ellos estan representados por:`dataset[columnas]`. A continuacion debemos de proporcionar los targets, ya que la division se hace considerando los pares $X, y$. El parametro: `dataset['y']` representa los targets. Ahora debemos de especificar cuanto porcentaje de test queremos reservar. Recordemos que habiamos definido un __20%__ de los datos para test. Esto se indica con el parametro: `test_size = 0.2`, donde 0.2 denota el __20%__. Finalmente el parametro `random_state` controla el proceso de aleatoriedad de la division de datos. Este parametro es fundamental para que nuestra division de datos sea siempre consistente. Para especificar un valor debemos de proporcionar un __numero entero positivo__. Este puede ser cualquiera, pero __debemos de usar siempre ese numero (semilla)__ dentro de nuestro Notebook. En este caso especificamos: `random_state = 1`.\n",
    "\n",
    "__Nota:__ `train_test_split` usa mas parametros, en este ejemplo describimos los necesarios, puede ver la lista completa [aqui](https://scikit-learn.org/stable/modules/generated/sklearn.model_selection.train_test_split.html#sklearn-model-selection-train-test-split)"
   ]
  },
  {
   "cell_type": "code",
   "execution_count": 13,
   "id": "b883db12-22c6-4b10-aa41-5724a1789017",
   "metadata": {},
   "outputs": [
    {
     "name": "stdout",
     "output_type": "stream",
     "text": [
      "['top-left-square', 'top-middle-square', 'top-right-square', 'middle-left-square', 'middle-middle-square', 'middle-right-square', 'bottom-left-square', 'bottom-middle-square', 'bottom-right-square']\n"
     ]
    }
   ],
   "source": [
    "# seleccionaremos las columnas sin targets\n",
    "columnas = list(dataset.columns[:-1])\n",
    "print(columnas)"
   ]
  },
  {
   "cell_type": "code",
   "execution_count": 14,
   "id": "f5dec04a-0a34-495a-af59-67c40f15fba3",
   "metadata": {},
   "outputs": [],
   "source": [
    "# ahora dividiremos\n",
    "X_train, X_test, y_train, y_test = train_test_split(dataset[columnas], dataset['y'], test_size = 0.2, random_state = 1)"
   ]
  },
  {
   "cell_type": "markdown",
   "id": "bb960d75-1aa8-4bcc-b093-e392594e614c",
   "metadata": {},
   "source": [
    "# Pre-procesamiento\n",
    "Antes de entrenar nuestra red neuronal, necesitamos pre-procesar los datos. El pre-procesamiento consiste en aplicar algun tipo de operacion para estandarizar los datos. Este es un paso __necesario__. Aplicaremos el pre-procesamiento a los datos de __entrenamiento (X_train)__ y luego a los datos de __test (X_test)__. Para ello usaremos una herramienta de __sklearn__ llamada __[StandardScaler](https://scikit-learn.org/stable/modules/generated/sklearn.preprocessing.StandardScaler.html#sklearn-preprocessing-standardscaler)__. Este tipo de pre-procesamiento aplica la siguiente operacion a los datos:\n",
    "\n",
    "$$\n",
    "z = (x - \\mu) / s\n",
    "$$\n",
    "Donde $x$ representa los datos sin pre-procesar, a estos se les calcula $\\mu$ y $s$ que representa la media y desviacion estandar. Finalmente estos dan origen a los datos pre-procesados $z$, los cuales seran usados por nuestra red neuronal. El siguiente codigo se encarga de aplicar este proceso:\n",
    "```python\n",
    "# crear scalador\n",
    "scaler = StandardScaler()\n",
    "# aplicar SOLO A DATOS DE ENTRENAMIENTO\n",
    "scaler.fit(X_train)\n",
    "# transformar datos de entrenaminto\n",
    "X_train = scaler.transform(X_train)\n",
    "# transformar datos de test\n",
    "X_test = scaler.transform(X_test)\n",
    "```\n",
    "\n",
    "La primera linea `scaler = StandardScaler()` crea un escalador usando `StandardScaler` en una variable llamada `scaler`. Con esta variable calculamos $\\mu$ y $s$ en los __datos de entrenamiento__ usando el comando `fit` : `scaler.fit(X_train)`. Luego es necesario __transformar__ los datos de entrenamiento en $z$. Para ello usamos el comando `transform` de la siguiente manera: `X_train = scaler.transform(X_train)`, notese que ahora nuestra variable __X_train__ contiene los datos de __entrenamiento pre-procesados__ $z$. A continuacion aplicaremos la __transformacion__ __solo__ a los datos de __test__: `X_test = scaler.transform(X_test)`. Con este proceso hemos pre-procesado nuestros datos de entrenamiento y test.\n",
    "\n",
    "__Nota:__ Durante este proceso solo se debe de calcular $\\mu$ y $s$ en los __datos de entrenamiento__. La transformacion de los datos de __test__ se realiza con los valores de $\\mu$ y $s$ obtenidos de los datos de __entenamiento__."
   ]
  },
  {
   "cell_type": "code",
   "execution_count": 15,
   "id": "52abc344-36e2-43fb-9f2d-24a2e176dcf4",
   "metadata": {},
   "outputs": [],
   "source": [
    "# crear scalador\n",
    "scaler = StandardScaler()\n",
    "# aplicar fit SOLO A DATOS DE ENTRENAMIENTO\n",
    "scaler.fit(X_train)\n",
    "# transformar datos de entrenaminto\n",
    "X_train = scaler.transform(X_train)\n",
    "# transformar datos de test\n",
    "X_test = scaler.transform(X_test)"
   ]
  },
  {
   "cell_type": "markdown",
   "id": "68972933-f7d3-465f-84d7-d4131aef22f5",
   "metadata": {},
   "source": [
    "# Creacion de la red\n",
    "\n",
    "En esta seccion crearemos una red neuronal compuesta por una sola capa oculta, y una capa de salida. La capa oculta cotara con 100 neuronas, mientras que la de salida con 2. Asimismo, entrenaremos la red un total de 300 iteraciones. Para ello usaremos el comando [MLPClassifier](https://scikit-learn.org/stable/modules/generated/sklearn.neural_network.MLPClassifier.html#sklearn-neural-network-mlpclassifier) como se muestra en el siguiente codigo:\n",
    "```python\n",
    "red_neuronal = MLPClassifier(random_state = 1, max_iter = 300, hidden_layer_sizes = (100, ))\n",
    "```\n",
    "En este caso nuesta red neuronal estara definida en la variable `red_neuronal`. La clase `MLPClassifier` nos permite especificar una red para tareas de clasificacion. Esta clase necesita unos parametros para poder crear la red. En este caso podemos usar los valores por defecto o especificar alguno de ellos. En este ejemplo solo vamos a definir __3__:\n",
    "* random_state: Este parametro determina la replicabilidad de numeros aleatorios. En general, deseamos especificar un valor numerico, este puede ser cualquiera. No obstante debemos mantener este numero siempre.\n",
    "* max_iter: Este parametro determina el numero maximo de iteraciones (epochs) para el entrenamiento de la red. Como habiamos mencionado, el modelo entrenara por 300 iteraciones.\n",
    "* hidden_layer_sizes: Este parametro determina la arquitectura (numero de capas y neuronas) de la red. El formato es una tupla donde cada elemento representa un numero de neuronas por capas. En nuestro caso, el valor: `(100, )` representa una red de una sola capa oculta con 100 neuronas. __Notese__ que el numero de salidas es __inferido automaticamente__."
   ]
  },
  {
   "cell_type": "markdown",
   "id": "f31b7e20-ed27-4832-93c8-f089888c1ed8",
   "metadata": {},
   "source": [
    "<div align=\"center\">\n",
    "<img src=\"https://raw.githubusercontent.com/aguilarls/practicas/main/Redes%20Neuronales/images/red-01.png\" />\n",
    "</div>"
   ]
  },
  {
   "cell_type": "code",
   "execution_count": 16,
   "id": "b408c2b3-b34c-4379-961a-fa2e337def27",
   "metadata": {},
   "outputs": [],
   "source": [
    "# creacion de red neuronal\n",
    "red_neuronal = MLPClassifier(random_state = 1, max_iter = 300, hidden_layer_sizes = (100, ))"
   ]
  },
  {
   "cell_type": "markdown",
   "id": "f46c298e-6d23-4f3b-87e2-5e6ebe73fdbe",
   "metadata": {},
   "source": [
    "Como se menciono anteriormente, en la creacion de la red usamos solo __3__ parametros. No obstante, podemos especificar varios valores; el comando `red_neuronal.get_params()` nos muestra una lista de los valores disponibles."
   ]
  },
  {
   "cell_type": "code",
   "execution_count": 17,
   "id": "2a20a8c8-6b5e-46ec-81d8-d943d8f44ede",
   "metadata": {},
   "outputs": [
    {
     "data": {
      "text/plain": [
       "{'activation': 'relu',\n",
       " 'alpha': 0.0001,\n",
       " 'batch_size': 'auto',\n",
       " 'beta_1': 0.9,\n",
       " 'beta_2': 0.999,\n",
       " 'early_stopping': False,\n",
       " 'epsilon': 1e-08,\n",
       " 'hidden_layer_sizes': (100,),\n",
       " 'learning_rate': 'constant',\n",
       " 'learning_rate_init': 0.001,\n",
       " 'max_fun': 15000,\n",
       " 'max_iter': 300,\n",
       " 'momentum': 0.9,\n",
       " 'n_iter_no_change': 10,\n",
       " 'nesterovs_momentum': True,\n",
       " 'power_t': 0.5,\n",
       " 'random_state': 1,\n",
       " 'shuffle': True,\n",
       " 'solver': 'adam',\n",
       " 'tol': 0.0001,\n",
       " 'validation_fraction': 0.1,\n",
       " 'verbose': False,\n",
       " 'warm_start': False}"
      ]
     },
     "execution_count": 17,
     "metadata": {},
     "output_type": "execute_result"
    }
   ],
   "source": [
    "# ver comandos disponibles\n",
    "red_neuronal.get_params()"
   ]
  },
  {
   "cell_type": "markdown",
   "id": "bcc08112-9014-4c3e-80f2-cdd9b275f2ef",
   "metadata": {},
   "source": [
    "__Nota:__ Usualmente, despues de haber procedido a implementar la red, deberiamos seleccionar una funcion para instanciar los parametros (pesos). Sklearn implementa esta caracterisca de manera automatica de acuerdo al tipo de funcion de activacion. Esto se puede observar en esta seccion del codigo:\n",
    "```python\n",
    "    def _init_coef(self, fan_in, fan_out):\n",
    "        if self.activation == 'logistic':\n",
    "            # Use the initialization method recommended by\n",
    "            # Glorot et al.\n",
    "            init_bound = np.sqrt(2. / (fan_in + fan_out))\n",
    "        elif self.activation in ('identity', 'tanh', 'relu'):\n",
    "            init_bound = np.sqrt(6. / (fan_in + fan_out))\n",
    "        else:\n",
    "            # this was caught earlier, just to make sure\n",
    "            raise ValueError(\"Unknown activation function %s\" %\n",
    "                             self.activation)\n",
    "\n",
    "        coef_init = self._random_state.uniform(-init_bound, init_bound,\n",
    "                                               (fan_in, fan_out))\n",
    "        intercept_init = self._random_state.uniform(-init_bound, init_bound,\n",
    "                                                    fan_out)\n",
    "        return coef_init, intercept_init\n",
    "```\n",
    "El codigo mostrado procede de la implementacion de la red neuronal. Como se puede observar, los parametros(pesos, coeficientes) son instanciados de acuerdo al tipo de activacion. Por ejemplo para funciones logisticas (__logistic__):\n",
    "\n",
    "$$ W = \\sqrt{\\frac{2}{fan_{in} + fan_{out}}} $$\n",
    "\n",
    "Y funciones de identidad (__identity__), tangentes (__tanh__) y __relu__:\n",
    "\n",
    "$$ W = \\sqrt{\\frac{6}{fan_{in} + fan_{out}}} $$\n",
    "\n",
    "__Nota:__ Las dos ecuaciones mostradas corresponden al articulo: __Understanding the difficulty of training deep feedforward neural networks__, el cual puede ser consultado en detalle en este [link](https://proceedings.mlr.press/v9/glorot10a/glorot10a.pdf).\n",
    "\n",
    "Finalmente los pesos son iniciados con una distribucion uniforme (`_random_state.uniform`) conteniendo los intervalos minimos (`-init_bound`) y maximos (`init_bound`). Puede consultar la implementacion del codigo [aqui](https://github.com/scikit-learn/scikit-learn/blob/f3320a6f/sklearn/neural_network/multilayer_perceptron.py#L300-L316)"
   ]
  },
  {
   "cell_type": "markdown",
   "id": "6bcbadd6-0fe0-4989-afe4-e20da680f370",
   "metadata": {},
   "source": [
    "# Entrenamiento\n",
    "En esta seccion procederemos a entrenar nuestra red nueronal. Para ello necesitamos proporcionar los datos de entrenamiento (__X_train__) junto con los targets (__y_train__) de la siguiente manera:\n",
    "```python\n",
    "red_neuronal.fit(X_train, y_train)\n",
    "```\n",
    "El comando `fit` espera dos parametros, el primero son los datos de entrenamiento `X_train` y los targets `y_train`."
   ]
  },
  {
   "cell_type": "code",
   "execution_count": 18,
   "id": "3b475755-ef4f-420c-88f1-533224e4ae7e",
   "metadata": {},
   "outputs": [
    {
     "name": "stderr",
     "output_type": "stream",
     "text": [
      "/home/antonio/anaconda3/envs/unp-course/lib/python3.9/site-packages/sklearn/neural_network/_multilayer_perceptron.py:614: ConvergenceWarning: Stochastic Optimizer: Maximum iterations (300) reached and the optimization hasn't converged yet.\n",
      "  warnings.warn(\n"
     ]
    },
    {
     "data": {
      "text/plain": [
       "MLPClassifier(max_iter=300, random_state=1)"
      ]
     },
     "execution_count": 18,
     "metadata": {},
     "output_type": "execute_result"
    }
   ],
   "source": [
    "# convergencia no optima\n",
    "red_neuronal.fit(X_train, y_train)"
   ]
  },
  {
   "cell_type": "markdown",
   "id": "f21c5136-9524-409f-83b7-705613fc9767",
   "metadata": {},
   "source": [
    "Al terminar el entrenamiento, observamos un mensaje de __advertencia acerca de convergencia__. Esto significa que nuestra red no ha encontrado un punto de optimizacion __optimo__. Podemos corregir este problema cambiando diversos hyper-parametros como el numero de capas, optimizador, entre otros. No obstante una de las soluciones mas simples consiste en incrementar el __numero de iteraciones__. La siguiente celda crea de nuevo el modelo, agregando __mas iteraciones__."
   ]
  },
  {
   "cell_type": "code",
   "execution_count": 19,
   "id": "6578f6b6-e39f-4cab-9831-203ed944530d",
   "metadata": {},
   "outputs": [
    {
     "data": {
      "text/plain": [
       "MLPClassifier(max_iter=1000, random_state=1)"
      ]
     },
     "execution_count": 19,
     "metadata": {},
     "output_type": "execute_result"
    }
   ],
   "source": [
    "# creacion de red neuronal optima\n",
    "red_neuronal = MLPClassifier(random_state = 1, max_iter = 1000, hidden_layer_sizes = (100, ))\n",
    "# convergencia optima\n",
    "red_neuronal.fit(X_train, y_train)"
   ]
  },
  {
   "cell_type": "markdown",
   "id": "5f3474f5-ca94-4553-8f05-a61ffd4e2465",
   "metadata": {},
   "source": [
    "Como vemos, esta vez no encontramos ninguna adevertencia."
   ]
  },
  {
   "cell_type": "markdown",
   "id": "6f14c99e-50b8-4f1e-9b41-6eebb90093c6",
   "metadata": {},
   "source": [
    "# Predicciones\n",
    "Una vez completada la fase de entrenamiento, vamos a realizar algunas predicciones. Para ello, necesitaremos proporcionar datos al modelo. Comenzemos realizando algunas pruebas con las __5 primeras filas de los datos de entrenamiento__. En python, podemos usar el comando: `X_train[0:5, :]` para seleccionar las 5 primeras filas:\n",
    "```python\n",
    "print(X_train[0:5, :])\n",
    "[[-0.27122478 -0.157127   -1.57204081  1.10791988  0.92441085  1.08752102\n",
    "  -1.5847127  -1.41683124 -1.58859179]\n",
    " [ 1.01123314 -1.42406677 -0.2772201   1.10791988 -1.78861103 -0.15212348\n",
    "  -1.5847127   1.06667615 -0.31037613]\n",
    " [ 1.01123314 -1.42406677  1.01760061  1.10791988 -0.43210009 -0.15212348\n",
    "   1.00353874 -0.17507754 -1.58859179]\n",
    " [-0.27122478  1.10981278  1.01760061 -0.15310037 -0.43210009 -0.15212348\n",
    "   1.00353874  1.06667615 -1.58859179]\n",
    " [ 1.01123314 -0.157127    1.01760061  1.10791988 -0.43210009 -0.15212348\n",
    "  -0.29058698  1.06667615  0.96783954]]\n",
    "```\n",
    "Ahora, para realizar las predicciones disponemos de dos opciones: `predict_proba` y `predict`. La opcion `predict_proba` nos muestra las probabilidades asociadas a cada prediccion. Para ilustrar este comportamiento, veamos que resultados obtenemos al ingresar los datos a la red:\n",
    "\n",
    "<div align=\"center\">\n",
    "<img src=\"https://raw.githubusercontent.com/aguilarls/practicas/main/Redes%20Neuronales/images/red-02.png\" />\n",
    "</div>\n",
    "\n",
    "Como se puede apreciar en la imagen, los datos de entrada estan compuestos por __5 filas__ y __9 columnas__. Estos viajan a travez de nuestra red. Durante este proceso una serie de __operaciones__ son llevadas a cabo en cada __capa__. Una vez terminado el proceso, obtenemos una matriz $\\hat y$ compuesta por __5 filas__ y __2 columnas__. Analizando $\\hat y$ notamos que las __5 filas__ en $\\hat y$ corresponden a las filas en $X_{train}$. Ahora las __2 columnas__ representan las salidas de cada __neurona en la capa de salida__, asimismo, el numero de columnas se encuentra __alineado al numero de clases en nuestro data set__. Si recordamos, tenemos un problema donde intentamos __clasificar a dos jugadores__. Nuestro data set contiene __2 clases__ (positiva y negativa), por ende el numero de __neuronas de salida__ tiene que coincidir con el __numero de clases__.\n",
    "\n",
    "Recordemos que `predict_proba` muestra las probabilidades. Podemos comprobar esto cuando sumamos horizontalmente cada fila en $\\hat y$. Siempre obtendremos un valor de __1__. Ahora, prestemos atencion a la primera fila en $\\hat y$, los valores son: `[6.13277362e-04, 9.99386723e-01]`. La pregunta ahora es __cual es el valor de la prediccion?__. Para determinar esto, notar que la __primera columna__ en $\\hat y$ representa la __primera clase__, en este caso la clase __negativa__ que mapeamos como __0__, mientras que la __segunda columna__ la clase __positiva__ mapeada como __1__. Teniendo esto en cuenta, debemos ver cual de las dos columnas tiene el valor de probabilidad mayor. En este caso para `[6.13277362e-04, 9.99386723e-01]` el valor mayor es `9.99386723e-01` que pertenece a la __segunda columna__, por ende el valor de prediccion es la clase __positiva__ o __1__. Lo mismo podemos realizar con las otras filas.\n",
    "\n",
    "Ahora, si lo que deseamos es realizar el calculo de la prediccion de manera automatica, podemos usar el comando `predict`, el cual retorna las clases de la prediccion:\n",
    "```python\n",
    "red_neuronal.predict(X_train[0:5, :])\n",
    "\n",
    "array([1, 0, 1, 0, 0])\n",
    "```\n",
    "Como podemos observar, el resultado de la __primera fila__ coincide con la clase __1__. Finalmente podemos comprobar estos resultados consultado los valores __reales__ de los targets de entrenamiento de la siguiente manera:\n",
    "```python\n",
    "print(y_train[0:5].values)\n",
    "[1 0 1 0 0]\n",
    "```\n",
    "\n",
    "__Nota:__ En python las columnas se cuentan desde __0__. Por esta razon es recomendable mapear las clases con valores que comiencen desde __0__ en adelante."
   ]
  },
  {
   "cell_type": "markdown",
   "id": "419319d5-8c2c-48d3-9304-ce88bc14f116",
   "metadata": {},
   "source": [
    "## Predicciones de Entrenamiento"
   ]
  },
  {
   "cell_type": "code",
   "execution_count": 20,
   "id": "2f99935a-33e5-4948-aeae-57061a943b31",
   "metadata": {},
   "outputs": [
    {
     "name": "stdout",
     "output_type": "stream",
     "text": [
      "[[-0.27122478 -0.157127   -1.57204081  1.10791988  0.92441085  1.08752102\n",
      "  -1.5847127  -1.41683124 -1.58859179]\n",
      " [ 1.01123314 -1.42406677 -0.2772201   1.10791988 -1.78861103 -0.15212348\n",
      "  -1.5847127   1.06667615 -0.31037613]\n",
      " [ 1.01123314 -1.42406677  1.01760061  1.10791988 -0.43210009 -0.15212348\n",
      "   1.00353874 -0.17507754 -1.58859179]\n",
      " [-0.27122478  1.10981278  1.01760061 -0.15310037 -0.43210009 -0.15212348\n",
      "   1.00353874  1.06667615 -1.58859179]\n",
      " [ 1.01123314 -0.157127    1.01760061  1.10791988 -0.43210009 -0.15212348\n",
      "  -0.29058698  1.06667615  0.96783954]]\n"
     ]
    }
   ],
   "source": [
    "# Cinco primeros datos\n",
    "print(X_train[0:5, :])"
   ]
  },
  {
   "cell_type": "code",
   "execution_count": 21,
   "id": "feffff3d-28bd-426b-81a8-89a3ba12420f",
   "metadata": {},
   "outputs": [
    {
     "name": "stdout",
     "output_type": "stream",
     "text": [
      "(5, 9)\n"
     ]
    }
   ],
   "source": [
    "# dimensiones de los datos\n",
    "print(X_train[0:5, :].shape)"
   ]
  },
  {
   "cell_type": "code",
   "execution_count": 22,
   "id": "c7aedde5-6574-4d72-b1dd-2b7e9eeaaa71",
   "metadata": {},
   "outputs": [
    {
     "data": {
      "text/plain": [
       "array([[6.13277362e-04, 9.99386723e-01],\n",
       "       [9.99999115e-01, 8.84712292e-07],\n",
       "       [2.25827572e-02, 9.77417243e-01],\n",
       "       [9.85169584e-01, 1.48304156e-02],\n",
       "       [9.37850977e-01, 6.21490227e-02]])"
      ]
     },
     "execution_count": 22,
     "metadata": {},
     "output_type": "execute_result"
    }
   ],
   "source": [
    "# calcular probabilidades\n",
    "red_neuronal.predict_proba(X_train[0:5, :])"
   ]
  },
  {
   "cell_type": "code",
   "execution_count": 23,
   "id": "e5148102-465c-400e-b9d7-122a589808f5",
   "metadata": {},
   "outputs": [
    {
     "data": {
      "text/plain": [
       "array([1, 0, 1, 0, 0])"
      ]
     },
     "execution_count": 23,
     "metadata": {},
     "output_type": "execute_result"
    }
   ],
   "source": [
    "# calcular predicciones\n",
    "red_neuronal.predict(X_train[0:5, :])"
   ]
  },
  {
   "cell_type": "code",
   "execution_count": 24,
   "id": "cbbd7bff-a0cb-4b9d-9ea5-90ea389af4fe",
   "metadata": {},
   "outputs": [
    {
     "name": "stdout",
     "output_type": "stream",
     "text": [
      "[1 0 1 0 0]\n"
     ]
    }
   ],
   "source": [
    "# valores de los targets\n",
    "print(y_train[0:5].values)"
   ]
  },
  {
   "cell_type": "code",
   "execution_count": 25,
   "id": "2eded888-f3b9-4d74-a713-2c9da5ebe073",
   "metadata": {},
   "outputs": [
    {
     "data": {
      "text/plain": [
       "array([ True,  True,  True,  True,  True])"
      ]
     },
     "execution_count": 25,
     "metadata": {},
     "output_type": "execute_result"
    }
   ],
   "source": [
    "# compando targets y predicciones\n",
    "# True denota que los valores coinciden\n",
    "red_neuronal.predict(X_train[0:5, :]) == y_train[0:5].values"
   ]
  },
  {
   "cell_type": "markdown",
   "id": "3d8a77ee-da4c-49d9-b8de-b3f74357fb74",
   "metadata": {},
   "source": [
    "## Predicciones de Test"
   ]
  },
  {
   "cell_type": "code",
   "execution_count": 26,
   "id": "25bf0d53-ac2a-4cde-b967-264b6c89f752",
   "metadata": {},
   "outputs": [
    {
     "name": "stdout",
     "output_type": "stream",
     "text": [
      "[[ 1.01123314 -1.42406677 -0.2772201   1.10791988  0.92441085  1.08752102\n",
      "  -1.5847127  -0.17507754 -0.31037613]\n",
      " [-0.27122478 -0.157127   -1.57204081 -0.15310037  0.92441085  1.08752102\n",
      "  -0.29058698  1.06667615  0.96783954]\n",
      " [-0.27122478 -1.42406677  1.01760061 -0.15310037  0.92441085 -1.39176798\n",
      "   1.00353874  1.06667615 -0.31037613]\n",
      " [-0.27122478 -0.157127    1.01760061 -0.15310037  0.92441085 -1.39176798\n",
      "   1.00353874  1.06667615 -1.58859179]\n",
      " [-0.27122478  1.10981278 -1.57204081  1.10791988  0.92441085  1.08752102\n",
      "  -0.29058698 -0.17507754 -1.58859179]]\n"
     ]
    }
   ],
   "source": [
    "# Cinco primeros datos\n",
    "print(X_test[0:5, :])"
   ]
  },
  {
   "cell_type": "code",
   "execution_count": 27,
   "id": "6a8f7299-50f0-4b38-bfc7-2c0a5fb7a1db",
   "metadata": {},
   "outputs": [
    {
     "name": "stdout",
     "output_type": "stream",
     "text": [
      "(5, 9)\n"
     ]
    }
   ],
   "source": [
    "# dimensiones de los datos\n",
    "print(X_test[0:5, :].shape)"
   ]
  },
  {
   "cell_type": "code",
   "execution_count": 28,
   "id": "307a8977-2db1-44bb-87f4-7b438f9f1403",
   "metadata": {},
   "outputs": [
    {
     "data": {
      "text/plain": [
       "array([[0.11063746, 0.88936254],\n",
       "       [0.0340935 , 0.9659065 ],\n",
       "       [0.05359351, 0.94640649],\n",
       "       [0.00990504, 0.99009496],\n",
       "       [0.01122634, 0.98877366]])"
      ]
     },
     "execution_count": 28,
     "metadata": {},
     "output_type": "execute_result"
    }
   ],
   "source": [
    "# calcular probabilidades\n",
    "red_neuronal.predict_proba(X_test[0:5, :])"
   ]
  },
  {
   "cell_type": "code",
   "execution_count": 29,
   "id": "f0138dc7-af05-42df-b381-3528e9a0ef64",
   "metadata": {},
   "outputs": [
    {
     "data": {
      "text/plain": [
       "array([1, 1, 1, 1, 1])"
      ]
     },
     "execution_count": 29,
     "metadata": {},
     "output_type": "execute_result"
    }
   ],
   "source": [
    "# calcular predicciones\n",
    "red_neuronal.predict(X_test[0:5, :])"
   ]
  },
  {
   "cell_type": "code",
   "execution_count": 30,
   "id": "efb39c74-3623-4a85-9a85-5b02d8f81c1a",
   "metadata": {},
   "outputs": [
    {
     "name": "stdout",
     "output_type": "stream",
     "text": [
      "[1 0 1 1 1]\n"
     ]
    }
   ],
   "source": [
    "# valores de los targets\n",
    "print(y_test[0:5].values)"
   ]
  },
  {
   "cell_type": "code",
   "execution_count": 31,
   "id": "5ab06177-d1fc-44b8-b1bb-af053e6a2c1c",
   "metadata": {},
   "outputs": [
    {
     "data": {
      "text/plain": [
       "array([ True, False,  True,  True,  True])"
      ]
     },
     "execution_count": 31,
     "metadata": {},
     "output_type": "execute_result"
    }
   ],
   "source": [
    "# compando targets y predicciones\n",
    "# True denota que los valores coinciden\n",
    "red_neuronal.predict(X_test[0:5, :]) == y_test[0:5].values"
   ]
  },
  {
   "cell_type": "markdown",
   "id": "7ba14a6e-0169-44fb-991e-a16289917dff",
   "metadata": {},
   "source": [
    "# Evaluacion\n",
    "Una vez entrenado el modelo, podemos realizar predicciones, no obstante, necesitamos __evaluar__ la __presicion (accuracy)__ de las predicciones. Para ello usaremos los datos de entrenamiento y test conjuntamente con los targets. Para ello usaremos el comando `score`. Primero evaluemos los datos de entrenamiento:\n",
    "```python\n",
    "red_neuronal.score(X_train, y_train)\n",
    "```\n",
    "Aqui obtenemos un resultado del `100`. Ahora para test:\n",
    "```python\n",
    "red_neuronal.score(X_test, y_test)\n",
    "```\n",
    "Tenemos: ~ `0.95`"
   ]
  },
  {
   "cell_type": "code",
   "execution_count": 32,
   "id": "44841dc1-237a-4024-9360-70733e123975",
   "metadata": {},
   "outputs": [
    {
     "data": {
      "text/plain": [
       "1.0"
      ]
     },
     "execution_count": 32,
     "metadata": {},
     "output_type": "execute_result"
    }
   ],
   "source": [
    "# Accuracy para entrenamiento\n",
    "red_neuronal.score(X_train, y_train)"
   ]
  },
  {
   "cell_type": "code",
   "execution_count": 33,
   "id": "e8d2e006-fcab-4d1c-911c-288172d0e771",
   "metadata": {},
   "outputs": [
    {
     "data": {
      "text/plain": [
       "0.953125"
      ]
     },
     "execution_count": 33,
     "metadata": {},
     "output_type": "execute_result"
    }
   ],
   "source": [
    "# Accuracy para test\n",
    "red_neuronal.score(X_test, y_test)"
   ]
  },
  {
   "cell_type": "markdown",
   "id": "68275686-d553-4ab5-92fd-0ae46d2e9da1",
   "metadata": {},
   "source": [
    "__Nota:__ Generalmente es inusual lograr un __100 %__ de accuracy en los datos de entrenamiento o test. En particular, mas que el __100%__, nos interesa que exista un equilibrio entre entrenamiento y test. En nuestro ejemplo, obtenemos __100 %__ en entrenamiento, pero en test __~95.31%__, notese aqui el __5%__ de diferencia."
   ]
  },
  {
   "cell_type": "markdown",
   "id": "e2823547-3562-4a73-9815-9c7e2a4318a0",
   "metadata": {},
   "source": [
    "# Concluciones\n"
   ]
  }
 ],
 "metadata": {
  "kernelspec": {
   "display_name": "Python 3 (ipykernel)",
   "language": "python",
   "name": "python3"
  },
  "language_info": {
   "codemirror_mode": {
    "name": "ipython",
    "version": 3
   },
   "file_extension": ".py",
   "mimetype": "text/x-python",
   "name": "python",
   "nbconvert_exporter": "python",
   "pygments_lexer": "ipython3",
   "version": "3.9.5"
  }
 },
 "nbformat": 4,
 "nbformat_minor": 5
}
