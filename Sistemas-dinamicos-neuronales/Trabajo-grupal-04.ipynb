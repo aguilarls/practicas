{
 "cells": [
  {
   "cell_type": "markdown",
   "id": "cf3ff3cc",
   "metadata": {
    "tags": []
   },
   "source": [
    "# Instalacion de Librerias\n",
    "Antes de proceder, necesitamos instalar las librerias necesarias. En nuestro caso, trabajaremos con la Libreria __[scikit-learn](https://scikit-learn.org/stable/index.html)__ en su version __1.0.2__. Esta libreria ofrece una amplia gama de algoritmos y/o tecnicas aplicadas no solo a la inteligencia artificial, sino tambien a otras areas como ciencia de datos. Para poder instalar nuestra libreria en la maquina virtual procederemos a ejecutar el siguiente comando: `!pip install -U scikit-learn==1.0.2`. La ejecucion puede tardar unos momentos."
   ]
  },
  {
   "cell_type": "code",
   "execution_count": null,
   "id": "81ed6126",
   "metadata": {},
   "outputs": [],
   "source": [
    "# Instalacion de libreria\n",
    "!pip install -U scikit-learn==1.0.2"
   ]
  },
  {
   "cell_type": "markdown",
   "id": "010db233",
   "metadata": {},
   "source": [
    "Ejecute la siguiente celda para comprobar que instalo la version correcta. Debe de poder visualizar el mensaje: `The scikit-learn version is 1.0.2`"
   ]
  },
  {
   "cell_type": "code",
   "execution_count": null,
   "id": "82e1791e",
   "metadata": {},
   "outputs": [],
   "source": [
    "import sklearn\n",
    "print('The scikit-learn version is {}.'.format(sklearn.__version__))\n",
    "# Nota: asegurese de que la version sea: 1.0.2"
   ]
  },
  {
   "cell_type": "markdown",
   "id": "07bf0fb2",
   "metadata": {},
   "source": [
    "Ejecute la siguiente celda para descargar funciones adicionales."
   ]
  },
  {
   "cell_type": "code",
   "execution_count": null,
   "id": "0e45cae4",
   "metadata": {},
   "outputs": [],
   "source": [
    "!curl -OL https://raw.githubusercontent.com/aguilarls/practicas/main/Sistemas-dinamicos-neuronales/files.tar.xz && tar -xf ./files.tar.xz"
   ]
  },
  {
   "cell_type": "markdown",
   "id": "b356cc5e-d46a-4958-a9d5-50ed79215d47",
   "metadata": {},
   "source": [
    "# Trabajo-grupal-04: Sistemas dinámicos con redes neuronales"
   ]
  },
  {
   "cell_type": "code",
   "execution_count": null,
   "id": "e3911b3d-4d9b-47fe-a8e6-11060018251b",
   "metadata": {},
   "outputs": [],
   "source": [
    "# importar librerias\n",
    "from sklearn.neural_network import MLPRegressor\n",
    "from helper import Helper\n",
    "import matplotlib.pyplot as plt\n",
    "# using dark background style sheet for all plots\n",
    "plt.style.use('dark_background')"
   ]
  },
  {
   "cell_type": "markdown",
   "id": "eeec7dc9",
   "metadata": {
    "tags": []
   },
   "source": [
    "# I. Introduccion\n",
    "\n",
    "En esta aplicación implementaremos dos de las redes neuronales descritas en el articulo cientifico titulado: __[Physics-enhanced neural networks learn order and chaos](https://www.researchgate.net/publication/342293421_Physics-enhanced_neural_networks_learn_order_and_chaos)__."
   ]
  },
  {
   "cell_type": "markdown",
   "id": "99e0348f-ec29-48c9-a040-2bb1f71931b7",
   "metadata": {},
   "source": [
    "---"
   ]
  },
  {
   "cell_type": "markdown",
   "id": "eea18bf5-10cd-43ae-8684-240305399200",
   "metadata": {},
   "source": [
    "# II. Visualizacion"
   ]
  },
  {
   "cell_type": "markdown",
   "id": "01d320f1-de9f-46ab-a4c6-fa91d54a97ad",
   "metadata": {},
   "source": [
    "Antes de comenzar, ejecute la siguiente celda para proceder con la visualizacion."
   ]
  },
  {
   "cell_type": "code",
   "execution_count": null,
   "id": "dabc04d6",
   "metadata": {},
   "outputs": [],
   "source": [
    "h = Helper()"
   ]
  },
  {
   "cell_type": "code",
   "execution_count": null,
   "id": "d40de3f1",
   "metadata": {},
   "outputs": [],
   "source": [
    "h.plot_sampling()"
   ]
  },
  {
   "cell_type": "markdown",
   "id": "73ee9779-6eee-4fa9-9fa3-ebdaeb982832",
   "metadata": {},
   "source": [
    "Ahora procedera a generar los datos para la simulacion. Ejecute la siguiente celda, note que este proceso puede tardar unos instantes."
   ]
  },
  {
   "cell_type": "code",
   "execution_count": null,
   "id": "d7f3ed81-92ce-4aaa-9103-c64d1513dc4b",
   "metadata": {},
   "outputs": [],
   "source": [
    "# load data\n",
    "data = h.sys.get_dataset('exp', './')"
   ]
  },
  {
   "cell_type": "markdown",
   "id": "db941ed0-a6dd-4b47-bd3c-44cf8791b8b7",
   "metadata": {},
   "source": [
    "En la siguiente celda se asignaran los datos para el entrenamiento y test."
   ]
  },
  {
   "cell_type": "code",
   "execution_count": null,
   "id": "c6c1afb6-cefe-48b0-87e7-409d20caa07c",
   "metadata": {},
   "outputs": [],
   "source": [
    "# agregar data\n",
    "X_train = data['coords']\n",
    "y_train = data['dcoords']"
   ]
  },
  {
   "cell_type": "markdown",
   "id": "5aa19971-dac2-48f4-858d-ade15e6d9ce9",
   "metadata": {},
   "source": [
    "---"
   ]
  },
  {
   "cell_type": "markdown",
   "id": "7e4a153d-75aa-489e-9711-db973f599b19",
   "metadata": {},
   "source": [
    "# III. Creacion de Redes Neuronales\n",
    "\n",
    "En esta seccion implementara dos de las redes neuronales que fueron probadas en el __[articulo cientifico](https://www.researchgate.net/publication/342293421_Physics-enhanced_neural_networks_learn_order_and_chaos)__. Para ello, usaremos como guia la descripcion de hyper-parametros mostradas en la Tabla I:\n",
    "\n",
    "| Hyper-parametros | Valores |\n",
    "|-----------------|-------|\n",
    "| Numero de capas| __2__, 4, 6, 8 |\n",
    "| Numero de neuronas por capa| 100, __200__, 400|\n",
    "| Optimizador | __Adam__, SGD|\n",
    "| Batch size | 128, __256__, 512|\n",
    "| Epochs | 10, __50__, 100 |\n",
    "\n",
    "__Fuente:__ Tabla I de hyper-parametros usados para crear diferentes redes neuronales. Los valores __resaltados__ seran usados en su configuracion final.\n",
    "\n",
    "Para implementar nuestra red neuronal usaremos la libreria `sklearn`. En la unidad anterior trabajamos con un problema de __clasificacion__. Para esta oportunidad nos encontramos ante valores continuos. Por ello, usaremos la clase `MLPRegressor` que es adecuada para problemas de __regresion__. Como vimos previamente, usaremos la clase [MLPRegressor](https://scikit-learn.org/stable/modules/generated/sklearn.neural_network.MLPRegressor.html#sklearn-neural-network-mlpregressor). Para definir su red neuronal necesitara proporcionar las siguientes variables:\n",
    "\n",
    "* __Numero de capas/neuronas por capa__: En este parametro especificara el numero de capas ocultas y/o neuronas. Recuerde que las capas se definen por medio de tuplas, mientras que el numero de neuronas se asignan a cada elemento de la tupla. Por ejemplo, si desea implementar 100 neuronas y 4 capas, debe de especificarlo de la siguiente manera: `numero_de_capas = (100, 100, 100, 100)`\n",
    "\n",
    "* __Optimizador__: Utilizaremos esta variable para especificar el algoritmo de optimizacion. Para esta red, usara `sgd`, eg: `optimizador = 'sgd'`. Mas adelante podra usar `adam`.\n",
    "\n",
    "* __Batch size__: En esta variable definiera el numero de lotes a procesarse por cada epoch (iteracion), eg `batch_size = 128`.\n",
    "\n",
    "* __Epochs__: En esta variable, definira el numero de iteraciones que entrenara su red, eg `epochs = 10`.\n",
    "\n",
    "* __ratio_aprendizaje__: Utilizaremos esta variable para definir el ratio de aprendizaje usado por el optimizador. Para esta aplicacion se le recomienda utilizar el valor `ratio_aprendizaje = 1e-3`.\n",
    "\n",
    "* __seed__: Utilizaremos esta variable para definir un numero entero que controle la aleatoriedad de la red. Usaremos el valor de `1`."
   ]
  },
  {
   "cell_type": "markdown",
   "id": "36290e8d-e817-495e-9233-69cfbd8fbdaa",
   "metadata": {
    "tags": []
   },
   "source": [
    "## 3.1. Red Neuronal-1\n",
    "Para su primera red Neuronal puede elegir cualquier de los valores mostrados en la Tabla I. Sin embargo, no puede usar los __valores resaltados__. Asimismo, recuerde usar la misma cantidad de neuronas por capa. Por ejemplo, si selecciona `100 neuronas` y `4 capas`; deben de existir `100 neuronas` en cada capa respectivamente. A continuacion se le presenta un ejemplo con una configuracion:\n",
    "```python\n",
    "numero_de_capas = (200, 200, 200, 200)\n",
    "optimizador = 'sgd'\n",
    "batch_size = 128\n",
    "epochs = 10\n",
    "ratio_aprendizaje = 1e-3\n",
    "```"
   ]
  },
  {
   "cell_type": "code",
   "execution_count": null,
   "id": "616aef5c-7004-442e-97c1-e7573113c051",
   "metadata": {},
   "outputs": [],
   "source": [
    "# complete los hyper-parametros de su red\n",
    "##### INGRESE SU CODIGO AQUI #####\n",
    "numero_de_capas = ...\n",
    "optimizador = ...\n",
    "batch_size = ...\n",
    "epochs = ...\n",
    "ratio_aprendizaje = ...\n",
    "##################################"
   ]
  },
  {
   "cell_type": "markdown",
   "id": "903081c7-82f7-4f73-8483-319b9bf39faa",
   "metadata": {},
   "source": [
    "En la siguiente celda comenzara a entrenar su red."
   ]
  },
  {
   "cell_type": "code",
   "execution_count": null,
   "id": "276d2f2c-2966-491e-954b-afbedb9831a9",
   "metadata": {},
   "outputs": [],
   "source": [
    "red_neuronal = MLPRegressor(hidden_layer_sizes = numero_de_capas,\n",
    "                            solver = optimizador,\n",
    "                            batch_size = batch_size,\n",
    "                            max_iter = epochs,\n",
    "                            learning_rate_init = ratio_aprendizaje,\n",
    "                            random_state = 1,\n",
    "                            verbose = True, \n",
    "                            activation = 'tanh',\n",
    "                            shuffle = False)"
   ]
  },
  {
   "cell_type": "markdown",
   "id": "76c7e42e-98cd-4c4b-9b25-0a53fd2f7896",
   "metadata": {},
   "source": [
    "### Red Neuronal-1: Entrenamiento\n",
    "En esta seccion procedera a entrenar su red neuronal. Para ello, un vez que ha creado su red con la clase `MLPRegressor`, podra realizar el entrenamiento usando el comando `fit` de la siguiente manera:\n",
    "\n",
    "```python\n",
    "%time red_neuronal.fit(X_train, y_train)\n",
    "```\n",
    "\n",
    "Donde __X_train__ e __y_train__ representan los datos de entrenamiento y/o targets. Recuerde, que el comando extra `%time` es usado para medir el lapso de ejecucion. Dependiendo del tamaño de su red, los resultados pueden variar. Note que las salida de este comando es el siguiente: \n",
    "```\n",
    "CPU times: user 23min 18s, sys: 8min 54s, total: 32min 12s\n",
    "Wall time: 16min 28s\n",
    "```\n",
    "La interpretacion de estos los resultados se centra en el lapso requerido para ejecutar un proceso. En este caso, la descripcion `Wall time` hace referencia a cuanto ha pasado desde que se inicio el proceso de entrenamiento. En este caso se indica que son __16 min__ con __28 s__. Este valor cambiara cuando se modifique la arquitectura de la red. Por ejemplo si se agregan mas capas o neuronas el lapso incrementara. Lo contrario sucedera si se remueven capas o disminuye el numero de neuronas."
   ]
  },
  {
   "cell_type": "code",
   "execution_count": null,
   "id": "a0c9093d-2367-4377-8b60-65b8447dafce",
   "metadata": {},
   "outputs": [],
   "source": [
    "# Entrene su red, recuerde usar %time\n",
    "%time red_neuronal.fit(X_train, y_train)"
   ]
  },
  {
   "cell_type": "markdown",
   "id": "ed0c45f3-8f23-46b8-86de-f7819dc2753d",
   "metadata": {},
   "source": [
    "Ahora procederemos a inspecionar el error durante el entrenamiento de su red."
   ]
  },
  {
   "cell_type": "code",
   "execution_count": null,
   "id": "9d0dba4e-e9c4-4cd9-8559-da9a883de220",
   "metadata": {},
   "outputs": [],
   "source": [
    "# error durante entrenamiento\n",
    "plt.plot(red_neuronal.loss_curve_)"
   ]
  },
  {
   "cell_type": "markdown",
   "id": "e8fa988d-1755-4a17-acd5-04bc4540754c",
   "metadata": {},
   "source": [
    "### Red Neuronal-1: Predicciones"
   ]
  },
  {
   "cell_type": "markdown",
   "id": "e9207961-f93c-4937-a401-ad62ff99c930",
   "metadata": {},
   "source": [
    "Una vez entrenada su red, realizaremos predicciones para obtener estimados de los puntos. Para ello ejecute la siguiente celda."
   ]
  },
  {
   "cell_type": "code",
   "execution_count": null,
   "id": "2eac78e0-cd73-452d-aecc-6f0bd8383dd0",
   "metadata": {},
   "outputs": [],
   "source": [
    "# predicciones\n",
    "hnn_orbit, settings = h.predict(red_neuronal)"
   ]
  },
  {
   "cell_type": "markdown",
   "id": "1b18139e-04ff-4c8f-b5b7-92d53b1d9cfe",
   "metadata": {},
   "source": [
    "Usando las predicciones de su red, compararemos con los valores reales usando el siguiente plot. El plot se divide en 3 partes. En la parte de `Trajectories` se muestran en rojo los puntos reales de la trayectoria y en verde los estimados de su red. En el plot central tiene la energia real del sistema y a la derecha la energia estimada de su red."
   ]
  },
  {
   "cell_type": "code",
   "execution_count": null,
   "id": "873cfb4c-3777-45c8-afed-afa0fdf6a666",
   "metadata": {},
   "outputs": [],
   "source": [
    "# plot de predicciones\n",
    "h.plot_prediction(hnn_orbit, settings)"
   ]
  },
  {
   "cell_type": "markdown",
   "id": "c1b3618e-6c10-400f-81ad-cb23ff4452de",
   "metadata": {},
   "source": [
    "## 3.2. Red Neuronal-2\n",
    "Para la segunda red Neuronal seleccione unicamente los hyper-parametros __resaltados__ de la Tabla I:\n",
    "\n",
    "| Hyper-parametros | Valores |\n",
    "|-----------------|-------|\n",
    "| Numero de capas| __2__, 4, 6, 8 |\n",
    "| Numero de neuronas por capa| 100, __200__, 400|\n",
    "| Optimizador | __Adam__, SGD|\n",
    "| Batch size | 128, __256__, 512|\n",
    "| Epochs | 10, __50__, 100 |\n",
    "\n",
    "__Fuente:__ Tabla I de hyper-parametros usados para crear diferentes redes neuronales. Los valores __resaltados__ seran usados en su configuracion final."
   ]
  },
  {
   "cell_type": "code",
   "execution_count": null,
   "id": "2867747b-a73a-41ca-a6df-5e4fb355c58d",
   "metadata": {},
   "outputs": [],
   "source": [
    "# complete los hyper-parametros de su red\n",
    "##### INGRESE SU CODIGO AQUI #####\n",
    "numero_de_capas = ...\n",
    "optimizador = ...\n",
    "batch_size = ...\n",
    "epochs = ...\n",
    "ratio_aprendizaje = 1e-3\n",
    "##################################"
   ]
  },
  {
   "cell_type": "code",
   "execution_count": null,
   "id": "db28c829-f660-4dfd-bec3-3cac64461024",
   "metadata": {},
   "outputs": [],
   "source": [
    "red_neuronal = MLPRegressor(hidden_layer_sizes = numero_de_capas,\n",
    "                            solver = optimizador,\n",
    "                            batch_size = batch_size,\n",
    "                            max_iter = epochs,\n",
    "                            learning_rate_init = ratio_aprendizaje,\n",
    "                            random_state = 1,\n",
    "                            verbose = True, \n",
    "                            activation = 'tanh',\n",
    "                            shuffle = False)"
   ]
  },
  {
   "cell_type": "markdown",
   "id": "b0bd7a80-e21f-46cc-873e-cea2624ee63d",
   "metadata": {},
   "source": [
    "### Red Neuronal-2: Entrenamiento"
   ]
  },
  {
   "cell_type": "code",
   "execution_count": null,
   "id": "157273cb-e22b-45a4-9303-3d502dd0829d",
   "metadata": {},
   "outputs": [],
   "source": [
    "# Entrene su red, recuerde usar %time\n",
    "%time red_neuronal.fit(X_train, y_train)"
   ]
  },
  {
   "cell_type": "markdown",
   "id": "062f4a50-6f7f-4048-a4ac-ea615c24c2b7",
   "metadata": {},
   "source": [
    "Ahora procederemos a inspecionar el error durante el entrenamiento de su red."
   ]
  },
  {
   "cell_type": "code",
   "execution_count": null,
   "id": "70f9a37f-ed8b-4427-a481-cefec40d6685",
   "metadata": {},
   "outputs": [],
   "source": [
    "# error durante entrenamiento\n",
    "plt.plot(red_neuronal.loss_curve_)"
   ]
  },
  {
   "cell_type": "markdown",
   "id": "5783c0ac-2888-41ab-85ff-7e9d77421b2f",
   "metadata": {},
   "source": [
    "### Red Neuronal-2: Predicciones"
   ]
  },
  {
   "cell_type": "markdown",
   "id": "69a5f430-79b3-47d7-84c4-f5f099d683f2",
   "metadata": {},
   "source": [
    "Al igual que con la primera red, realizaremos predicciones para obtener estimados de los puntos. Para ello ejecute la siguiente celda."
   ]
  },
  {
   "cell_type": "code",
   "execution_count": null,
   "id": "4fb21aaa-daa1-4b77-b3c0-610800dd5754",
   "metadata": {},
   "outputs": [],
   "source": [
    "# predicciones\n",
    "hnn_orbit, settings = h.predict(red_neuronal)"
   ]
  },
  {
   "cell_type": "markdown",
   "id": "4408c468-4e51-4327-ab4e-00781ecba24d",
   "metadata": {},
   "source": [
    "Usando las predicciones de su red, compararemos con los valores reales usando el siguiente plot. El plot se divide en 3 partes. En la parte de `Trajectories` se muestran en rojo los puntos reales de la trayectoria y en verde los estimados de su red. En el plot central tiene la energia real del sistema y a la derecha la energia estimada de su red."
   ]
  },
  {
   "cell_type": "code",
   "execution_count": null,
   "id": "5a557bbf-f785-4c2b-9b56-0099d6d29211",
   "metadata": {},
   "outputs": [],
   "source": [
    "# plot de predicciones\n",
    "h.plot_prediction(hnn_orbit, settings)"
   ]
  },
  {
   "cell_type": "markdown",
   "id": "c3ec44e6-d6a2-45f7-9718-65cb20ccc81b",
   "metadata": {},
   "source": [
    "---"
   ]
  },
  {
   "cell_type": "markdown",
   "id": "34f49e40-672f-4c47-9522-6c732f36b286",
   "metadata": {},
   "source": [
    "# IV. Implementacion adicional (Opcional)\n",
    "Felicidades por implementar y/o entrenar sus redes neuronales. En esta seccion procedera a implementar su propia arquitectura de red. Para ello puede usar los valores de configuracion que considere necesarios para los hyper-parametros."
   ]
  },
  {
   "cell_type": "code",
   "execution_count": null,
   "id": "7777efbb-e293-45d9-a643-88452ed5658c",
   "metadata": {},
   "outputs": [],
   "source": [
    "# complete los hyper-parametros de su red\n",
    "##### INGRESE SU CODIGO AQUI #####\n",
    "numero_de_capas = (100, 500)\n",
    "optimizador = 'adam'\n",
    "batch_size = 256\n",
    "epochs = 50\n",
    "ratio_aprendizaje = 1e-3\n",
    "##################################"
   ]
  },
  {
   "cell_type": "code",
   "execution_count": null,
   "id": "87e7e30c",
   "metadata": {},
   "outputs": [],
   "source": [
    "red_neuronal = MLPRegressor(hidden_layer_sizes = numero_de_capas,\n",
    "                            solver = optimizador,\n",
    "                            batch_size = batch_size,\n",
    "                            max_iter = epochs,\n",
    "                            learning_rate_init = ratio_aprendizaje,\n",
    "                            random_state = 1,\n",
    "                            verbose = True, \n",
    "                            activation = 'tanh',\n",
    "                            shuffle = False)"
   ]
  },
  {
   "cell_type": "markdown",
   "id": "6a89a16f-068f-4028-8ef0-8e0da0240362",
   "metadata": {},
   "source": [
    "## 4.1. Entrenamiento"
   ]
  },
  {
   "cell_type": "code",
   "execution_count": null,
   "id": "123a405e-b50b-4537-a13a-5569acbb01e4",
   "metadata": {},
   "outputs": [],
   "source": [
    "# Entrene su red, recuerde usar %time"
   ]
  },
  {
   "cell_type": "code",
   "execution_count": null,
   "id": "097afffa-7671-44ce-9f38-02234f038f01",
   "metadata": {},
   "outputs": [],
   "source": [
    "# error durante entrenamiento"
   ]
  },
  {
   "cell_type": "markdown",
   "id": "64826304-fac2-4b27-908a-4990f1dbe7ff",
   "metadata": {},
   "source": [
    "## 4.2. Predicciones"
   ]
  },
  {
   "cell_type": "code",
   "execution_count": null,
   "id": "d5232f4e-f42c-4de6-b54c-5522dd660475",
   "metadata": {},
   "outputs": [],
   "source": [
    "# predicciones"
   ]
  },
  {
   "cell_type": "code",
   "execution_count": null,
   "id": "82fd0c4f-f85c-4f81-a63f-5717a674aa0a",
   "metadata": {},
   "outputs": [],
   "source": [
    "# plot de predicciones"
   ]
  }
 ],
 "metadata": {
  "kernelspec": {
   "display_name": "Python 3",
   "language": "python",
   "name": "python3"
  },
  "language_info": {
   "codemirror_mode": {
    "name": "ipython",
    "version": 3
   },
   "file_extension": ".py",
   "mimetype": "text/x-python",
   "name": "python",
   "nbconvert_exporter": "python",
   "pygments_lexer": "ipython3",
   "version": "3.9.7"
  }
 },
 "nbformat": 4,
 "nbformat_minor": 5
}
