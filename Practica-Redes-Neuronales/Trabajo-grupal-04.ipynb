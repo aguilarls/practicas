{
 "cells": [
  {
   "cell_type": "markdown",
   "id": "d6fc0023-d030-45ce-b5a8-2af1a04208d7",
   "metadata": {},
   "source": [
    "# Instalacion de Librerias\n",
    "Antes de proceder, necesitamos instalar las librerias necesarias. En nuestro caso, trabajaremos con la Libreria __[scikit-learn](https://scikit-learn.org/stable/index.html)__ en su version __0.24.2__. Esta libreria ofrece una amplia gama de algoritmos y/o tecnicas aplicadas no solo a la inteligencia artificial, sino tambien a otras areas como ciencia de datos. Para poder instalar nuestra libreria en la maquina virtual procederemos a ejecutar el siguiente comando: `!pip install -U scikit-learn==0.24.2`. La ejecucion puede tardar unos momentos."
   ]
  },
  {
   "cell_type": "code",
   "execution_count": null,
   "id": "5a05ab11-7c5d-41b4-b9a1-96f46b286db7",
   "metadata": {},
   "outputs": [],
   "source": [
    "# Instalacion de libreria\n",
    "!pip install -U scikit-learn==0.24.2"
   ]
  },
  {
   "cell_type": "markdown",
   "id": "986de6ba-4d15-49dc-9393-cb98ee44d686",
   "metadata": {},
   "source": [
    "Ejecute la siguiente celda para comprobar que instalo la version correcta. Debe de poder visualizar el mensaje: `The scikit-learn version is 0.24.2.`"
   ]
  },
  {
   "cell_type": "code",
   "execution_count": null,
   "id": "c168440e-a1fa-49b3-87b7-a44ce96a668c",
   "metadata": {},
   "outputs": [],
   "source": [
    "import sklearn\n",
    "print('The scikit-learn version is {}.'.format(sklearn.__version__))\n",
    "# Nota: asegurese de que la version sea: 0.24.2"
   ]
  },
  {
   "cell_type": "markdown",
   "id": "273175a5-050d-48fe-89c8-0c0c1c04e21a",
   "metadata": {},
   "source": [
    "Ejecute la siguiente celda para descargar funciones adicionales conjuntamente con los datos."
   ]
  },
  {
   "cell_type": "code",
   "execution_count": null,
   "id": "40d99527-772d-45a7-a466-435fedce2bcf",
   "metadata": {},
   "outputs": [],
   "source": [
    "!curl -OL https://raw.githubusercontent.com/aguilarls/practicas/main/Practica-Redes-Neuronales/files.tar.xz && tar -xf ./files.tar.xz"
   ]
  },
  {
   "cell_type": "markdown",
   "id": "e4fb85fb-4aca-4af2-af63-6de4664527d5",
   "metadata": {},
   "source": [
    "# Trabajo-grupal-04: Reconocimiento de Digitos"
   ]
  },
  {
   "cell_type": "code",
   "execution_count": null,
   "id": "1928faaa-a3bc-4a80-b29c-cbe26af949d5",
   "metadata": {},
   "outputs": [],
   "source": [
    "# Importar librerias\n",
    "import matplotlib.pyplot as plt\n",
    "import numpy as np\n",
    "import joblib\n",
    "from helper import plot_data\n",
    "from helper import plot_neurons\n",
    "from helper import plot_results\n",
    "from helper import plot_errors\n",
    "from helper import plot_loss\n",
    "from sklearn.neural_network import MLPClassifier"
   ]
  },
  {
   "cell_type": "markdown",
   "id": "12a5c31d-8781-4c59-b135-f1df92738f65",
   "metadata": {},
   "source": [
    "# I. Introduccion\n",
    "En esta aplicacion exploraremos una tarea de clasificacion. Para ello utilizaremos una __sub-seccion__ del dataset llamado [mnist](http://yann.lecun.com/exdb/mnist/). Este dataset esta compuesto por imagenes de digitos. En ciencias de la computacion se suelen representar las imagenes por pixiles, en concreto se habla de matrices. Por ejemplo el dataset contiene digitos en blanco y negro (escala de grises) de tamaño 24 x 24. En la siguiente imagen se observa parte del dataset."
   ]
  },
  {
   "cell_type": "markdown",
   "id": "a96281de-af41-4173-817a-938cd092ccd4",
   "metadata": {},
   "source": [
    "<div align=\"center\">\n",
    "<img src=\"https://upload.wikimedia.org/wikipedia/commons/2/27/MnistExamples.png\" />\n",
    "</div>"
   ]
  },
  {
   "cell_type": "markdown",
   "id": "7f1c5755-4440-4006-894b-78e95d3e8feb",
   "metadata": {},
   "source": [
    "Nuestra tarea consistira en crear una red neuronal que sea capaz de reconocer los digitos. Para ello debemos primero de comprender la estructura de los datos."
   ]
  },
  {
   "cell_type": "markdown",
   "id": "026bc1cc-82ad-4123-baf1-809726ce2eb1",
   "metadata": {},
   "source": [
    "Como primer paso, vamos a cargar el dataset."
   ]
  },
  {
   "cell_type": "code",
   "execution_count": null,
   "id": "783ad56c-ca3e-4ba2-8693-60a1daa2e5be",
   "metadata": {},
   "outputs": [],
   "source": [
    "# load\n",
    "X_train = np.load('./sample/train.npy')\n",
    "X_test = np.load('./sample/test.npy')\n",
    "y_train = np.load('./sample/y_train.npy')\n",
    "y_test = np.load('./sample/y_test.npy')\n",
    "scaler = joblib.load('./sample/scaler.pkl')"
   ]
  },
  {
   "cell_type": "markdown",
   "id": "97630389-6a2f-4fe5-9626-8e778c3e8265",
   "metadata": {},
   "source": [
    "Para esta ocacion, contamos con 2 grupos de datos:\n",
    "* __X_train (entrenamiento)__: Usaremos estos datos para entrenar nuestra red neuronal.\n",
    "* __X_test (test)__: Los datos de test los dejaremos para la __evaluacion final__ de nuestra red.\n",
    "\n",
    "Sumados a los datos, estan presentes los targets de cada grupo con `y_train` y `y_test`. Asimismo, los datos __ya han sido pre-procesados__ usando la variable `scaler`."
   ]
  },
  {
   "cell_type": "markdown",
   "id": "06f139d6-9c1a-48c0-b31c-5f84282d516b",
   "metadata": {},
   "source": [
    "Ahora comenzaremos a realizar algunas inspecciones. Primero usando el comando `shape` veremos cuantas filas y columnas tenemos en los datos de entrenamiento."
   ]
  },
  {
   "cell_type": "code",
   "execution_count": null,
   "id": "99da3692-43d4-4ee1-a1da-fb5ccf780d0d",
   "metadata": {},
   "outputs": [],
   "source": [
    "# 1.1. Imprima el total de filas y columnas\n",
    "################# Ingrese su codigo en esta celda #####################\n"
   ]
  },
  {
   "cell_type": "markdown",
   "id": "25135f8f-2f40-4649-9f1c-b56f2d62ffdb",
   "metadata": {},
   "source": [
    "Ahora procederemos a inspeccionar los datos de test"
   ]
  },
  {
   "cell_type": "code",
   "execution_count": null,
   "id": "c60b8bdf-5a88-4151-83c0-a26e7f6b4c9d",
   "metadata": {},
   "outputs": [],
   "source": [
    "# 1.2. Imprima el total de filas y columnas\n",
    "################# Ingrese su codigo en esta celda #####################\n"
   ]
  },
  {
   "cell_type": "markdown",
   "id": "3b86c79a-3ddd-4c2d-bea6-d79d94d703da",
   "metadata": {},
   "source": [
    "### 1. Pregunta: Cual es la cantidad de datos de entrenamiento y test."
   ]
  },
  {
   "cell_type": "markdown",
   "id": "d0335a29-694f-424b-943e-624466db2c13",
   "metadata": {},
   "source": [
    "# II. Visualizacion"
   ]
  },
  {
   "cell_type": "markdown",
   "id": "22903f38-f0a3-478f-8889-3baa3800be9f",
   "metadata": {},
   "source": [
    "Como ya tenemos los datos divididos procederemos a realizar las visualizaciones. Como podemos notar las imagenes han sido expandidas, ya que contamos con 784 columnas, las cuales se pueden expresar como 28 * 28 = 784. Para ver los datos usaremos una funcion creada llamada `plot_data`"
   ]
  },
  {
   "cell_type": "code",
   "execution_count": null,
   "id": "c39cf94f-96d0-4249-854c-28291c895d7f",
   "metadata": {
    "tags": []
   },
   "outputs": [],
   "source": [
    "plot_data(X_train, y_train, scaler)"
   ]
  },
  {
   "cell_type": "markdown",
   "id": "e11ff404-f97e-477f-a58c-f188a2c13d72",
   "metadata": {},
   "source": [
    "---"
   ]
  },
  {
   "cell_type": "markdown",
   "id": "31097eef-a318-491c-9848-5cb07f82f73f",
   "metadata": {},
   "source": [
    "# III. Creacion de Red Neuronal\n",
    "\n",
    "Para esta aplicacion, creara una red neuronal  __diferente de la mostrada en clase__. En ese sentido, debe de seleccionar el numero de neuronas y capas a usar. Como vimos previamente, usaremos la clase [MLPClassifier](https://scikit-learn.org/stable/modules/generated/sklearn.neural_network.MLPClassifier.html#sklearn-neural-network-mlpclassifier). Para definir su red neuronal necesitara proporcionar las siguientes variables:\n",
    "\n",
    "* __capas_neuronas__: En este parametro especificara las capas ocultas. Recuerde que en clase se hablo de una sola capa con __100__ neuronas, en codigo se uso `(100, )`. Si desea agregar mas capas recuerde que necesita especificar los elementos en la tupla.\n",
    "* __seed__: Utilizaremos esta variable para definir un numero entero que controle la aleatoriedad de la red. Usaremos el valor de `1`.\n",
    "* __solver__: Utilizaremos esta variable para especificar el algortimo de optimizacion. Existen diversas opciones, para este se le recomienda usar `adam`, no obstante puede elegir otro algoritmo como `sgd`.\n",
    "* __ratio_aprendizaje__: Utilizaremos esta variable para definir el ratio de aprendizaje usado por el optimizador (solver). Para esta aplicacion se le recomienda usar valores en el intervalo `0.0001` a `0.0009`. Puede intentar con otros valores de ser el caso.\n",
    "* __iteraciones__: En esta variable, definira el numero de iteraciones que entrenara su red."
   ]
  },
  {
   "cell_type": "code",
   "execution_count": null,
   "id": "2b26d99f-1dff-4196-8795-1ac5a1fe8140",
   "metadata": {},
   "outputs": [],
   "source": [
    "# arquitectura\n",
    "capas_neuronas = ...\n",
    "seed = ...\n",
    "solver = ...\n",
    "ratio_aprendizaje = ...\n",
    "iteraciones = ..."
   ]
  },
  {
   "cell_type": "code",
   "execution_count": null,
   "id": "b74cc6e5-d3c1-4c5d-9e39-68e529a2082d",
   "metadata": {},
   "outputs": [],
   "source": [
    "red_neuronal = MLPClassifier(random_state = seed, max_iter = iteraciones, hidden_layer_sizes = capas_neuronas, learning_rate_init = ratio_aprendizaje, solver = solver)"
   ]
  },
  {
   "cell_type": "markdown",
   "id": "44096ae7-d527-49bc-939d-5af9adf66c3e",
   "metadata": {},
   "source": [
    "### 2. Pregunta: Describa la eleccion de los siguientes valores: solver, ratio de aprendizaje e iteraciones."
   ]
  },
  {
   "cell_type": "markdown",
   "id": "04288035-bae9-4992-87f6-a1fa9d5682cc",
   "metadata": {},
   "source": [
    "### 3. Pregunta: Describa la arquitectura de su red. Detalle la eleccion del numero de capas y neuronas."
   ]
  },
  {
   "cell_type": "markdown",
   "id": "232ada32-d8d5-4337-8f54-bdccb33f048e",
   "metadata": {},
   "source": [
    "### 4. Pregunta: Cuales son el ratio de aprendizaje y optimizador usados por su red?\n",
    "__hint:__ El comando: `red_neuronal.get_params()` muestra la lista de atributos de su red. El ratio de aprendizaje se suele tambien llamar __learning_rate_init__, y el optimizador __solver__."
   ]
  },
  {
   "cell_type": "markdown",
   "id": "cffa57df-b377-4492-a37d-3774033c7cec",
   "metadata": {},
   "source": [
    "---"
   ]
  },
  {
   "cell_type": "markdown",
   "id": "68972933-f7d3-465f-84d7-d4131aef22f5",
   "metadata": {},
   "source": [
    "# IV. Entrenamiento\n",
    "\n",
    "En esta seccion procedera a entrenar su red neuronal. Para ello, un vez que ha creado su red con la clase `MLPClassifier`, podra realizar el entrenamiento usando el comando `fit` de la siguiente manera:\n",
    "\n",
    "```python\n",
    "%time red_neuronal.fit(X_train, y_train)\n",
    "```\n",
    "\n",
    "Donde __X_train__ e __y_train__ representan los datos de entrenamiento y/o targets. Recuerde, que el comando extra `%time` es usado para medir el lapso de ejecucion. Dependiendo del tamaño de su red, los resultados pueden variar. Note que las salida de este comando es el siguiente: \n",
    "```\n",
    "CPU times: user 23min 18s, sys: 8min 54s, total: 32min 12s\n",
    "Wall time: 16min 28s\n",
    "```\n",
    "La interpretacion de estos los resultados se centra en el lapso requerido para ejecutar un proceso. En este caso, la descripcion `Wall time` hace referencia a cuanto ha pasado desde que se inicio el proceso de entrenamiento. En este caso se indica que son __16 min__ con __28 s__. Este valor cambiara cuando se modifique la arquitectura de la red. Por ejemplo si se agregan mas capas o neuronas el lapso incrementara. Lo contrario sucedera si se remueven capas o disminuye el numero de neuronas."
   ]
  },
  {
   "cell_type": "code",
   "execution_count": null,
   "id": "dff118a6-2c9a-410c-9549-f9aea921b643",
   "metadata": {},
   "outputs": [],
   "source": [
    "################# Ingrese su codigo aqui #####################\n",
    "# 4.1. Entrene su red, recuerde usar %time\n"
   ]
  },
  {
   "cell_type": "markdown",
   "id": "42edbddb-84c1-4a98-af9d-e205a9cdceba",
   "metadata": {},
   "source": [
    "Una vez entrenada completado el entrenamiento, procedera a visualizar el error (loss) durante el entrenamiento. Para ello ejecute la siguiente celda."
   ]
  },
  {
   "cell_type": "code",
   "execution_count": null,
   "id": "1edf23be-287e-434c-b016-7c71769e7a34",
   "metadata": {},
   "outputs": [],
   "source": [
    "plot_loss(red_neuronal)"
   ]
  },
  {
   "cell_type": "markdown",
   "id": "a80954af-4d74-4d36-850d-2c7703ced56e",
   "metadata": {},
   "source": [
    "### 5. Pregunta: Cuales fueron los valores de CPU times y Wall time. Cuanto demoro en entrenar su red?"
   ]
  },
  {
   "cell_type": "markdown",
   "id": "73f16014-a598-4708-8f14-5ff0db85868e",
   "metadata": {},
   "source": [
    "### 6. Pregunta: Observando el plot de su red, cuantas iteraciones realizo su red antes de detenerse?."
   ]
  },
  {
   "cell_type": "markdown",
   "id": "19d39986-b9de-4545-8b51-75c942101413",
   "metadata": {},
   "source": [
    "# V. Visualizacion de neuronas\n",
    "\n",
    "En esta seccion procedera a inspeccionar mas detalladamente su red neuronal. Para ello va a explorar la configuracion de 10 neuronas. Ejecute la siguiente celda el numero de veces que considere necesario para visualizar su red. __Note__ que cada visualizacion sera diferente."
   ]
  },
  {
   "cell_type": "code",
   "execution_count": null,
   "id": "bb6e5d18-9751-4a71-9b48-6db9a1f5d176",
   "metadata": {},
   "outputs": [],
   "source": [
    "plot_neurons(red_neuronal)"
   ]
  },
  {
   "cell_type": "markdown",
   "id": "89a70628-19e3-4424-bd8e-7a345887c5b1",
   "metadata": {},
   "source": [
    "El grafico de arriba muestra las neuronas de la capa oculta. La variable __N__ representa el numero de neurona. Como podemos observar se han formado ciertos patrones. Estos patrones permiten a la red realizar la clasificacion de los digitos. Asimismo, debemos notar que estos son frutos del entrenamiento que se ha realizado. Las imagenes se encuentran en escala de grises, en esta configuracion:\n",
    "\n",
    "* Areas oscuras: Representan valores negativos grandes.\n",
    "* Areas blancas: Representan valores positivos grandes.\n",
    "* Areas grices: Representan valores cercanos a cero."
   ]
  },
  {
   "cell_type": "markdown",
   "id": "9f8aa887-1c9a-4c2e-8e42-ea313d0bd1b3",
   "metadata": {},
   "source": [
    "### 7. Pregunta: Observando el grafico, describa y/o interprete los resultados."
   ]
  },
  {
   "cell_type": "markdown",
   "id": "6f14c99e-50b8-4f1e-9b41-6eebb90093c6",
   "metadata": {},
   "source": [
    "# VI. Predicciones\n",
    "\n",
    "Una vez completada la fase de entrenamiento, procedera a realizar predicciones. Para ello, necesitara proporcionar datos al modelo, es decir: __X_train__ o __X_test__. Para este caso va a usar todos los conjuntos de datos. Asimismo, utilizara variables para almacenar las predicciones de la siguiente manera:\n",
    "\n",
    "```python\n",
    "# predicciones de entrenamiento\n",
    "p_train = red_neuronal.predict(X_train)\n",
    "# predicciones de test\n",
    "p_test = red_neuronal.predict(X_test)\n",
    "```"
   ]
  },
  {
   "cell_type": "code",
   "execution_count": null,
   "id": "1c29b82d-e9b3-4e59-92d9-e7d856860d8f",
   "metadata": {},
   "outputs": [],
   "source": [
    "################# Ingrese su codigo aqui #####################\n",
    "# 7.1. Predicciones\n",
    "# predicciones de entrenamiento\n",
    "\n",
    "# predicciones de test\n"
   ]
  },
  {
   "cell_type": "markdown",
   "id": "b9b6d666-fca1-430a-af7a-7dd5b949e138",
   "metadata": {},
   "source": [
    "Ahora procedera a verificar sus predicciones con los datos reales. Primero proceda con los datos de entrenamiento. Para ello ejecute la siguiente celda"
   ]
  },
  {
   "cell_type": "code",
   "execution_count": null,
   "id": "80777806-ad9c-4940-afdc-c905746d3968",
   "metadata": {},
   "outputs": [],
   "source": [
    "# visualizacion en datos de entrenamiento\n",
    "plot_results(X_train, y_train, p_train, scaler)"
   ]
  },
  {
   "cell_type": "markdown",
   "id": "376a8421-36f6-43ca-aee3-3b560840801e",
   "metadata": {},
   "source": [
    "En la imagen, en blanco se muestran los valores reales, mientras que la prediccion hecha por la red se muestra en verde. Ahora proceda a la visualizacion de los datos de test."
   ]
  },
  {
   "cell_type": "code",
   "execution_count": null,
   "id": "08b94fda-1233-4e98-b8f2-a0317609b7f7",
   "metadata": {},
   "outputs": [],
   "source": [
    "# visualizacion en datos de test\n",
    "plot_results(X_test, y_test, p_test, scaler)"
   ]
  },
  {
   "cell_type": "markdown",
   "id": "f7b9526e-f4fc-4a36-9882-e7486617fa33",
   "metadata": {},
   "source": [
    "### 8. Pregunta: Coincidieron las predicciones para los datos de entrenamiento y test?. Describa una hipotesis acerca del comportamiento observado (si coincidieron o no, y por que?)"
   ]
  },
  {
   "cell_type": "markdown",
   "id": "e61337fb-7190-4315-8980-3ffdb7d49ed8",
   "metadata": {},
   "source": [
    "---"
   ]
  },
  {
   "cell_type": "markdown",
   "id": "7ba14a6e-0169-44fb-991e-a16289917dff",
   "metadata": {},
   "source": [
    "# VII. Evaluacion\n",
    "\n",
    "Una vez entrenado el modelo, procedera a __evaluar__ la __presicion (accuracy)__ de las predicciones. Esto se realizara usando el comando `score(X, y)`, donde __X__ representa un conjunto de datos e __y__ los valores reales de ese conjunto. Con esta informacion, procedera a evaluar el modelo con los datos de entrenamiento:\n",
    "\n",
    "```python\n",
    "red_neuronal.score(X_train, y_train)\n",
    "```\n",
    "\n",
    "Ahora para test:\n",
    "```python\n",
    "red_neuronal.score(X_test, y_test)\n",
    "```"
   ]
  },
  {
   "cell_type": "code",
   "execution_count": null,
   "id": "836eca6c-30dc-48b5-ba0f-ec5e7f2a0f97",
   "metadata": {},
   "outputs": [],
   "source": [
    "################# Ingrese su codigo aqui #####################\n",
    "# 7.1 Accuracy para entrenamiento\n"
   ]
  },
  {
   "cell_type": "code",
   "execution_count": null,
   "id": "9df92270-c306-498c-b594-bb74ba883b97",
   "metadata": {},
   "outputs": [],
   "source": [
    "################# Ingrese su codigo aqui #####################\n",
    "# 7.1 Accuracy para test\n"
   ]
  },
  {
   "cell_type": "markdown",
   "id": "227692f0-3a21-413d-b6b2-f78a6de5d10b",
   "metadata": {},
   "source": [
    "### 9. Pregunta: Cuales son los porcentajes de accuracy para los datos de entrenamiento y test?. Explique el comportamiento observado en terminos de las diferencias entre resultados, elabore hipotesis acerca de este comportamiento."
   ]
  },
  {
   "cell_type": "markdown",
   "id": "d38940a6-3b90-482d-8222-811a1bf30c76",
   "metadata": {},
   "source": [
    "---"
   ]
  },
  {
   "cell_type": "markdown",
   "id": "883b0e51-3fa8-4084-b40b-3da4debf1408",
   "metadata": {},
   "source": [
    "# VII. Errores\n",
    "\n",
    "En esta seccion visualizara que errores comete su red. Para ello, comenzaremos con los errores en los datos de entrenamiento. Proceda a ejecutar las siguientes celdas."
   ]
  },
  {
   "cell_type": "code",
   "execution_count": null,
   "id": "f0855595-5f66-4f5a-8463-c45b4fe216aa",
   "metadata": {},
   "outputs": [],
   "source": [
    "# errores en entrenamiento\n",
    "plot_errors(X_train, y_train, p_train, scaler)"
   ]
  },
  {
   "cell_type": "markdown",
   "id": "989e66a3-57b4-4cd0-ba52-a758ebb7b66f",
   "metadata": {},
   "source": [
    "Ahora procederemos con los datos de test. Se le recomienda ejecutar varias veces esta celda para ver diferentes errores."
   ]
  },
  {
   "cell_type": "code",
   "execution_count": null,
   "id": "971bae31-3e0a-4e1e-9a05-1c67a72e328d",
   "metadata": {},
   "outputs": [],
   "source": [
    "# errores en test\n",
    "plot_errors(X_test, y_test, p_test, scaler)"
   ]
  },
  {
   "cell_type": "markdown",
   "id": "9bac6ccc-95dd-43ef-8d4f-2b28ddd00fe8",
   "metadata": {},
   "source": [
    "### 10. Pregunta: Describa los errores encontrandos en los datos de entrenamiento y test. Elabore una hipotesis explicando los errores."
   ]
  },
  {
   "cell_type": "markdown",
   "id": "968be235-e3ac-48be-8644-7bf5b3c1a010",
   "metadata": {},
   "source": [
    "---"
   ]
  },
  {
   "cell_type": "markdown",
   "id": "b6a6853d-5b1a-43af-8a54-b9996a2d08e8",
   "metadata": {},
   "source": [
    "# VIII. Video\n",
    "\n",
    "En esta seccion vamos a crear un video con las visualizaciones de su red. Para ello ejecute el siguiente codigo.\n",
    "\n",
    "__Nota:__ Este proceso puede tardar algunos minutos, se le recomienda no cerrar la ventana."
   ]
  },
  {
   "cell_type": "code",
   "execution_count": null,
   "id": "24c33892-78af-4da8-ac00-b3e0e30f8516",
   "metadata": {},
   "outputs": [],
   "source": [
    "%matplotlib inline\n",
    "import matplotlib\n",
    "plt.rcParams[\"animation.html\"] = \"jshtml\"\n",
    "from matplotlib.animation import FuncAnimation\n",
    "\n",
    "neurons = np.transpose(red_neuronal.coefs_[0])\n",
    "sample = 100\n",
    "vmin, vmax = red_neuronal.coefs_[0].min(), red_neuronal.coefs_[0].max()\n",
    "dims = 28\n",
    "try:\n",
    "    s = np.random.choice(range(neurons.shape[0]), size = sample, replace = True).astype(int)\n",
    "except:\n",
    "    s = np.random.choice(range(neurons.shape[0]), size = sample, replace = False).astype(int)\n",
    "    \n",
    "fig, arr = plt.subplots(1, 1, figsize = (15, 5))\n",
    "ann = arr.annotate('', xy = (0.05, 0.85), xycoords = \"axes fraction\", color = \"white\", fontsize = 18)\n",
    "arr.xaxis.set_visible(False)\n",
    "arr.yaxis.set_visible(False)\n",
    "def animate(idx):\n",
    "    ann.set_text('N: {}'.format(s[idx]))\n",
    "    arr_plot = arr.imshow(neurons[s[idx], :].reshape(dims, dims), cmap = plt.get_cmap('gray'), interpolation = 'bilinear', vmin=.5 * vmin, vmax=.5 * vmax)\n",
    "    return arr_plot\n",
    "\n",
    "ani = FuncAnimation(fig, animate, frames = s.shape[0], interval = 1000, save_count = 50)\n",
    "Writer = matplotlib.animation.writers['ffmpeg']\n",
    "writer = Writer(fps = 3, metadata=dict(artist='Me'))\n",
    "ani.save('video.mp4', writer=writer)\n",
    "ani"
   ]
  },
  {
   "cell_type": "markdown",
   "id": "be133b16-b7f0-4970-800b-c5d9785ab4d4",
   "metadata": {},
   "source": [
    "Ahora procedera a bajar el video de su red. Para ello descargara el video usando el siguiente comando."
   ]
  },
  {
   "cell_type": "code",
   "execution_count": null,
   "id": "0c04db63-da87-4df9-bfda-e539aad1af16",
   "metadata": {},
   "outputs": [],
   "source": [
    "from google.colab import files\n",
    "files.download('video.mp4')"
   ]
  },
  {
   "cell_type": "markdown",
   "id": "e2823547-3562-4a73-9815-9c7e2a4318a0",
   "metadata": {},
   "source": [
    "# IX. Concluciones:\n",
    "\n",
    "* En este Notebook ha aprendido cual es el proceso durante el entrenamiento de una red Neuronal.\n",
    "* Si bien es cierto uso la libreria __scikit-learn__, esta no es la unica alternativa disponible. De hecho existen diversas herramientas (librerias) con las que se puede trabajar. No obstante le recordamos siempre considerar aquellas de __codigo abierto__ (cuando la situacion lo requiera), ya que muchos modelos complejos se entrenan usando __software libre__.\n",
    "* Entrenar redes es una tarea ardua que involucra muchos factores, como la arquitectura de la red. De hecho diferentes arquitecturas resultan en performances variadas.\n",
    "* Es importante recordar que los datos de entrenamiento se usan para la red. Los datos de test se usan para evaluar. Es importante que no mezcle los datos, ya que obtendra resultados __sobre estimados__.\n",
    "* Existen diversas formas de division de datos. En este ejemplo hemos usado un 90-10%, donde 90% para entrenamiento y 10% para test. No obstante alternativas como la validacion cruzada y otras tambien se pueden aplicar.\n",
    "\n",
    "\n",
    "### 11. Pregunta: Despues de haber completado el Notebook, elabore un resumen resaltando los puntos mas importantes que ha encontrado."
   ]
  },
  {
   "cell_type": "markdown",
   "id": "083c31e6-9e28-4849-8e98-990f3d682a4e",
   "metadata": {},
   "source": [
    "---"
   ]
  }
 ],
 "metadata": {
  "kernelspec": {
   "display_name": "Python 3 (ipykernel)",
   "language": "python",
   "name": "python3"
  },
  "language_info": {
   "codemirror_mode": {
    "name": "ipython",
    "version": 3
   },
   "file_extension": ".py",
   "mimetype": "text/x-python",
   "name": "python",
   "nbconvert_exporter": "python",
   "pygments_lexer": "ipython3",
   "version": "3.9.5"
  }
 },
 "nbformat": 4,
 "nbformat_minor": 5
}
